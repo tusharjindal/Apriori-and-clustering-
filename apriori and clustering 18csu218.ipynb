{
 "cells": [
  {
   "cell_type": "markdown",
   "metadata": {},
   "source": [
    "# Association Rule - Apriori \n",
    "\n",
    "Training association rule models (Apriori) to find the most frequent conditions in which police have shot the people dead.\n",
    "\n",
    "This algorithm associate various conditions of the person who was shot. Most frequent conditions can be used to analyze if their is racism in the shootings which is a heated topic of discussion at present ."
   ]
  },
  {
   "cell_type": "markdown",
   "metadata": {},
   "source": [
    "<b> Importing the Dataset</b>"
   ]
  },
  {
   "cell_type": "code",
   "execution_count": 1,
   "metadata": {},
   "outputs": [],
   "source": [
    "# Importing the libraries\n",
    "import numpy as np\n",
    "import matplotlib.pyplot as plt\n",
    "import pandas as pd"
   ]
  },
  {
   "cell_type": "code",
   "execution_count": 2,
   "metadata": {},
   "outputs": [],
   "source": [
    "# Data Loading\n",
    "dataset = pd.read_csv(r'C:\\Users\\abc\\Desktop\\apriori project\\us police shootings.csv')"
   ]
  },
  {
   "cell_type": "markdown",
   "metadata": {},
   "source": [
    "<b> Pre-processing of Dataset</b>"
   ]
  },
  {
   "cell_type": "markdown",
   "metadata": {},
   "source": [
    "Dropping the columns 'name', 'date', 'body_camera', 'signs_of_mental_illness', 'city' and 'state' as values of name and date were not frequent and columns like 'body_camera', 'signs_of_mental_illness', 'city' and 'state' were not required according to the objective of my project. "
   ]
  },
  {
   "cell_type": "code",
   "execution_count": 3,
   "metadata": {},
   "outputs": [],
   "source": [
    "data=dataset.drop(columns=['name','date','body_camera','signs_of_mental_illness','city','state'])"
   ]
  },
  {
   "cell_type": "code",
   "execution_count": 4,
   "metadata": {
    "scrolled": true
   },
   "outputs": [
    {
     "data": {
      "text/html": [
       "<div>\n",
       "<style scoped>\n",
       "    .dataframe tbody tr th:only-of-type {\n",
       "        vertical-align: middle;\n",
       "    }\n",
       "\n",
       "    .dataframe tbody tr th {\n",
       "        vertical-align: top;\n",
       "    }\n",
       "\n",
       "    .dataframe thead th {\n",
       "        text-align: right;\n",
       "    }\n",
       "</style>\n",
       "<table border=\"1\" class=\"dataframe\">\n",
       "  <thead>\n",
       "    <tr style=\"text-align: right;\">\n",
       "      <th></th>\n",
       "      <th>manner_of_death</th>\n",
       "      <th>armed</th>\n",
       "      <th>age</th>\n",
       "      <th>gender</th>\n",
       "      <th>race</th>\n",
       "      <th>threat_level</th>\n",
       "      <th>flee</th>\n",
       "      <th>arms_category</th>\n",
       "    </tr>\n",
       "  </thead>\n",
       "  <tbody>\n",
       "    <tr>\n",
       "      <th>0</th>\n",
       "      <td>shot</td>\n",
       "      <td>gun</td>\n",
       "      <td>53.0</td>\n",
       "      <td>M</td>\n",
       "      <td>Asian</td>\n",
       "      <td>attack</td>\n",
       "      <td>Not fleeing</td>\n",
       "      <td>Guns</td>\n",
       "    </tr>\n",
       "    <tr>\n",
       "      <th>1</th>\n",
       "      <td>shot</td>\n",
       "      <td>gun</td>\n",
       "      <td>47.0</td>\n",
       "      <td>M</td>\n",
       "      <td>White</td>\n",
       "      <td>attack</td>\n",
       "      <td>Not fleeing</td>\n",
       "      <td>Guns</td>\n",
       "    </tr>\n",
       "    <tr>\n",
       "      <th>2</th>\n",
       "      <td>shot and Tasered</td>\n",
       "      <td>unarmed</td>\n",
       "      <td>23.0</td>\n",
       "      <td>M</td>\n",
       "      <td>Hispanic</td>\n",
       "      <td>other</td>\n",
       "      <td>Not fleeing</td>\n",
       "      <td>Unarmed</td>\n",
       "    </tr>\n",
       "    <tr>\n",
       "      <th>3</th>\n",
       "      <td>shot</td>\n",
       "      <td>toy weapon</td>\n",
       "      <td>32.0</td>\n",
       "      <td>M</td>\n",
       "      <td>White</td>\n",
       "      <td>attack</td>\n",
       "      <td>Not fleeing</td>\n",
       "      <td>Other unusual objects</td>\n",
       "    </tr>\n",
       "    <tr>\n",
       "      <th>4</th>\n",
       "      <td>shot</td>\n",
       "      <td>nail gun</td>\n",
       "      <td>39.0</td>\n",
       "      <td>M</td>\n",
       "      <td>Hispanic</td>\n",
       "      <td>attack</td>\n",
       "      <td>Not fleeing</td>\n",
       "      <td>Piercing objects</td>\n",
       "    </tr>\n",
       "    <tr>\n",
       "      <th>5</th>\n",
       "      <td>shot</td>\n",
       "      <td>gun</td>\n",
       "      <td>18.0</td>\n",
       "      <td>M</td>\n",
       "      <td>White</td>\n",
       "      <td>attack</td>\n",
       "      <td>Not fleeing</td>\n",
       "      <td>Guns</td>\n",
       "    </tr>\n",
       "    <tr>\n",
       "      <th>6</th>\n",
       "      <td>shot</td>\n",
       "      <td>gun</td>\n",
       "      <td>22.0</td>\n",
       "      <td>M</td>\n",
       "      <td>Hispanic</td>\n",
       "      <td>attack</td>\n",
       "      <td>Car</td>\n",
       "      <td>Guns</td>\n",
       "    </tr>\n",
       "    <tr>\n",
       "      <th>7</th>\n",
       "      <td>shot</td>\n",
       "      <td>gun</td>\n",
       "      <td>35.0</td>\n",
       "      <td>M</td>\n",
       "      <td>White</td>\n",
       "      <td>attack</td>\n",
       "      <td>Not fleeing</td>\n",
       "      <td>Guns</td>\n",
       "    </tr>\n",
       "    <tr>\n",
       "      <th>8</th>\n",
       "      <td>shot</td>\n",
       "      <td>unarmed</td>\n",
       "      <td>34.0</td>\n",
       "      <td>F</td>\n",
       "      <td>White</td>\n",
       "      <td>other</td>\n",
       "      <td>Not fleeing</td>\n",
       "      <td>Unarmed</td>\n",
       "    </tr>\n",
       "    <tr>\n",
       "      <th>9</th>\n",
       "      <td>shot</td>\n",
       "      <td>toy weapon</td>\n",
       "      <td>47.0</td>\n",
       "      <td>M</td>\n",
       "      <td>Black</td>\n",
       "      <td>attack</td>\n",
       "      <td>Not fleeing</td>\n",
       "      <td>Other unusual objects</td>\n",
       "    </tr>\n",
       "    <tr>\n",
       "      <th>10</th>\n",
       "      <td>shot and Tasered</td>\n",
       "      <td>knife</td>\n",
       "      <td>25.0</td>\n",
       "      <td>M</td>\n",
       "      <td>White</td>\n",
       "      <td>attack</td>\n",
       "      <td>Not fleeing</td>\n",
       "      <td>Sharp objects</td>\n",
       "    </tr>\n",
       "    <tr>\n",
       "      <th>11</th>\n",
       "      <td>shot</td>\n",
       "      <td>gun</td>\n",
       "      <td>31.0</td>\n",
       "      <td>M</td>\n",
       "      <td>Black</td>\n",
       "      <td>attack</td>\n",
       "      <td>Not fleeing</td>\n",
       "      <td>Guns</td>\n",
       "    </tr>\n",
       "    <tr>\n",
       "      <th>12</th>\n",
       "      <td>shot</td>\n",
       "      <td>knife</td>\n",
       "      <td>41.0</td>\n",
       "      <td>M</td>\n",
       "      <td>Black</td>\n",
       "      <td>other</td>\n",
       "      <td>Not fleeing</td>\n",
       "      <td>Sharp objects</td>\n",
       "    </tr>\n",
       "    <tr>\n",
       "      <th>13</th>\n",
       "      <td>shot</td>\n",
       "      <td>gun</td>\n",
       "      <td>30.0</td>\n",
       "      <td>M</td>\n",
       "      <td>White</td>\n",
       "      <td>attack</td>\n",
       "      <td>Car</td>\n",
       "      <td>Guns</td>\n",
       "    </tr>\n",
       "    <tr>\n",
       "      <th>14</th>\n",
       "      <td>shot</td>\n",
       "      <td>gun</td>\n",
       "      <td>37.0</td>\n",
       "      <td>M</td>\n",
       "      <td>Black</td>\n",
       "      <td>attack</td>\n",
       "      <td>Foot</td>\n",
       "      <td>Guns</td>\n",
       "    </tr>\n",
       "    <tr>\n",
       "      <th>15</th>\n",
       "      <td>shot</td>\n",
       "      <td>unknown</td>\n",
       "      <td>28.0</td>\n",
       "      <td>M</td>\n",
       "      <td>White</td>\n",
       "      <td>undetermined</td>\n",
       "      <td>Not fleeing</td>\n",
       "      <td>Unknown</td>\n",
       "    </tr>\n",
       "    <tr>\n",
       "      <th>16</th>\n",
       "      <td>shot</td>\n",
       "      <td>shovel</td>\n",
       "      <td>42.0</td>\n",
       "      <td>M</td>\n",
       "      <td>White</td>\n",
       "      <td>attack</td>\n",
       "      <td>Not fleeing</td>\n",
       "      <td>Blunt instruments</td>\n",
       "    </tr>\n",
       "    <tr>\n",
       "      <th>17</th>\n",
       "      <td>shot</td>\n",
       "      <td>unarmed</td>\n",
       "      <td>36.0</td>\n",
       "      <td>M</td>\n",
       "      <td>Black</td>\n",
       "      <td>attack</td>\n",
       "      <td>Not fleeing</td>\n",
       "      <td>Unarmed</td>\n",
       "    </tr>\n",
       "    <tr>\n",
       "      <th>18</th>\n",
       "      <td>shot</td>\n",
       "      <td>gun</td>\n",
       "      <td>49.0</td>\n",
       "      <td>M</td>\n",
       "      <td>White</td>\n",
       "      <td>attack</td>\n",
       "      <td>Not fleeing</td>\n",
       "      <td>Guns</td>\n",
       "    </tr>\n",
       "    <tr>\n",
       "      <th>19</th>\n",
       "      <td>shot</td>\n",
       "      <td>gun</td>\n",
       "      <td>71.0</td>\n",
       "      <td>M</td>\n",
       "      <td>White</td>\n",
       "      <td>attack</td>\n",
       "      <td>Not fleeing</td>\n",
       "      <td>Guns</td>\n",
       "    </tr>\n",
       "  </tbody>\n",
       "</table>\n",
       "</div>"
      ],
      "text/plain": [
       "     manner_of_death       armed   age gender      race  threat_level  \\\n",
       "0               shot         gun  53.0      M     Asian        attack   \n",
       "1               shot         gun  47.0      M     White        attack   \n",
       "2   shot and Tasered     unarmed  23.0      M  Hispanic         other   \n",
       "3               shot  toy weapon  32.0      M     White        attack   \n",
       "4               shot    nail gun  39.0      M  Hispanic        attack   \n",
       "5               shot         gun  18.0      M     White        attack   \n",
       "6               shot         gun  22.0      M  Hispanic        attack   \n",
       "7               shot         gun  35.0      M     White        attack   \n",
       "8               shot     unarmed  34.0      F     White         other   \n",
       "9               shot  toy weapon  47.0      M     Black        attack   \n",
       "10  shot and Tasered       knife  25.0      M     White        attack   \n",
       "11              shot         gun  31.0      M     Black        attack   \n",
       "12              shot       knife  41.0      M     Black         other   \n",
       "13              shot         gun  30.0      M     White        attack   \n",
       "14              shot         gun  37.0      M     Black        attack   \n",
       "15              shot     unknown  28.0      M     White  undetermined   \n",
       "16              shot      shovel  42.0      M     White        attack   \n",
       "17              shot     unarmed  36.0      M     Black        attack   \n",
       "18              shot         gun  49.0      M     White        attack   \n",
       "19              shot         gun  71.0      M     White        attack   \n",
       "\n",
       "           flee          arms_category  \n",
       "0   Not fleeing                   Guns  \n",
       "1   Not fleeing                   Guns  \n",
       "2   Not fleeing                Unarmed  \n",
       "3   Not fleeing  Other unusual objects  \n",
       "4   Not fleeing       Piercing objects  \n",
       "5   Not fleeing                   Guns  \n",
       "6           Car                   Guns  \n",
       "7   Not fleeing                   Guns  \n",
       "8   Not fleeing                Unarmed  \n",
       "9   Not fleeing  Other unusual objects  \n",
       "10  Not fleeing          Sharp objects  \n",
       "11  Not fleeing                   Guns  \n",
       "12  Not fleeing          Sharp objects  \n",
       "13          Car                   Guns  \n",
       "14         Foot                   Guns  \n",
       "15  Not fleeing                Unknown  \n",
       "16  Not fleeing      Blunt instruments  \n",
       "17  Not fleeing                Unarmed  \n",
       "18  Not fleeing                   Guns  \n",
       "19  Not fleeing                   Guns  "
      ]
     },
     "execution_count": 4,
     "metadata": {},
     "output_type": "execute_result"
    }
   ],
   "source": [
    "data.head(20)"
   ]
  },
  {
   "cell_type": "markdown",
   "metadata": {},
   "source": [
    "Checking for missing values:"
   ]
  },
  {
   "cell_type": "code",
   "execution_count": 5,
   "metadata": {},
   "outputs": [
    {
     "data": {
      "text/plain": [
       "False"
      ]
     },
     "execution_count": 5,
     "metadata": {},
     "output_type": "execute_result"
    }
   ],
   "source": [
    "data.isnull().values.any()"
   ]
  },
  {
   "cell_type": "markdown",
   "metadata": {},
   "source": [
    "### Apriori implementation using apyori library \n",
    "\n",
    "The output of this part is to see which factors contribute most when police shots someone using apriori algorithm.\n",
    "\n",
    "We will put some transformations to fit on dataframes and to make the visualization easier."
   ]
  },
  {
   "cell_type": "code",
   "execution_count": 6,
   "metadata": {},
   "outputs": [],
   "source": [
    "# Adding all incidents into a list of lists\n",
    "transactions = []\n",
    "for i in range(0, len(data)):\n",
    "    transactions.append([str(data.values[i,j]) for j in range(0, 8)])"
   ]
  },
  {
   "cell_type": "code",
   "execution_count": 7,
   "metadata": {},
   "outputs": [
    {
     "data": {
      "text/plain": [
       "[['shot', 'gun', '53.0', 'M', 'Asian', 'attack', 'Not fleeing', 'Guns'],\n",
       " ['shot', 'gun', '47.0', 'M', 'White', 'attack', 'Not fleeing', 'Guns'],\n",
       " ['shot and Tasered',\n",
       "  'unarmed',\n",
       "  '23.0',\n",
       "  'M',\n",
       "  'Hispanic',\n",
       "  'other',\n",
       "  'Not fleeing',\n",
       "  'Unarmed']]"
      ]
     },
     "execution_count": 7,
     "metadata": {},
     "output_type": "execute_result"
    }
   ],
   "source": [
    "# Inspecting elements\n",
    "transactions[:3]"
   ]
  },
  {
   "cell_type": "code",
   "execution_count": 8,
   "metadata": {},
   "outputs": [],
   "source": [
    "# Training Apriori on the dataset\n",
    "# The hyperparameters choosen on this training are:\n",
    "# min_length: we want at least 3 items to be associated. No point in having a single or two items in the result\n",
    "\n",
    "from apyori import apriori\n",
    "rules = apriori(transactions, min_support = 0.05, min_confidence = 0.6, min_lift = 3, min_length = 3)"
   ]
  },
  {
   "cell_type": "code",
   "execution_count": 9,
   "metadata": {},
   "outputs": [],
   "source": [
    "# Visualising the results\n",
    "results = list(rules)"
   ]
  },
  {
   "cell_type": "code",
   "execution_count": 10,
   "metadata": {},
   "outputs": [
    {
     "data": {
      "text/plain": [
       "33"
      ]
     },
     "execution_count": 10,
     "metadata": {},
     "output_type": "execute_result"
    }
   ],
   "source": [
    "len(results)"
   ]
  },
  {
   "cell_type": "code",
   "execution_count": 11,
   "metadata": {},
   "outputs": [
    {
     "data": {
      "text/plain": [
       "[RelationRecord(items=frozenset({'Sharp objects', 'knife'}), support=0.14463738508682328, ordered_statistics=[OrderedStatistic(items_base=frozenset({'Sharp objects'}), items_add=frozenset({'knife'}), confidence=0.8655256723716381, lift=5.984107579462103), OrderedStatistic(items_base=frozenset({'knife'}), items_add=frozenset({'Sharp objects'}), confidence=1.0, lift=5.984107579462103)]),\n",
       " RelationRecord(items=frozenset({'unarmed', 'Unarmed'}), support=0.0710929519918284, ordered_statistics=[OrderedStatistic(items_base=frozenset({'Unarmed'}), items_add=frozenset({'unarmed'}), confidence=1.0, lift=14.066091954022989), OrderedStatistic(items_base=frozenset({'unarmed'}), items_add=frozenset({'Unarmed'}), confidence=1.0, lift=14.066091954022989)]),\n",
       " RelationRecord(items=frozenset({'unknown', 'Unknown'}), support=0.0853932584269663, ordered_statistics=[OrderedStatistic(items_base=frozenset({'Unknown'}), items_add=frozenset({'unknown'}), confidence=1.0, lift=11.710526315789473), OrderedStatistic(items_base=frozenset({'unknown'}), items_add=frozenset({'Unknown'}), confidence=1.0, lift=11.710526315789473)]),\n",
       " RelationRecord(items=frozenset({'Sharp objects', 'knife', 'M'}), support=0.1372829417773238, ordered_statistics=[OrderedStatistic(items_base=frozenset({'Sharp objects'}), items_add=frozenset({'knife', 'M'}), confidence=0.821515892420538, lift=5.984107579462103), OrderedStatistic(items_base=frozenset({'knife'}), items_add=frozenset({'Sharp objects', 'M'}), confidence=0.9491525423728815, lift=5.971853078297243), OrderedStatistic(items_base=frozenset({'Sharp objects', 'M'}), items_add=frozenset({'knife'}), confidence=0.8637532133676092, lift=5.971853078297242), OrderedStatistic(items_base=frozenset({'knife', 'M'}), items_add=frozenset({'Sharp objects'}), confidence=1.0, lift=5.984107579462103)]),\n",
       " RelationRecord(items=frozenset({'unarmed', 'M', 'Unarmed'}), support=0.06598569969356487, ordered_statistics=[OrderedStatistic(items_base=frozenset({'Unarmed'}), items_add=frozenset({'unarmed', 'M'}), confidence=0.92816091954023, lift=14.066091954022989), OrderedStatistic(items_base=frozenset({'unarmed'}), items_add=frozenset({'M', 'Unarmed'}), confidence=0.92816091954023, lift=14.066091954022989), OrderedStatistic(items_base=frozenset({'M', 'Unarmed'}), items_add=frozenset({'unarmed'}), confidence=1.0, lift=14.066091954022989), OrderedStatistic(items_base=frozenset({'unarmed', 'M'}), items_add=frozenset({'Unarmed'}), confidence=1.0, lift=14.066091954022989)]),\n",
       " RelationRecord(items=frozenset({'unknown', 'M', 'Unknown'}), support=0.08171603677221655, ordered_statistics=[OrderedStatistic(items_base=frozenset({'Unknown'}), items_add=frozenset({'unknown', 'M'}), confidence=0.9569377990430622, lift=11.710526315789474), OrderedStatistic(items_base=frozenset({'unknown'}), items_add=frozenset({'M', 'Unknown'}), confidence=0.9569377990430622, lift=11.710526315789474), OrderedStatistic(items_base=frozenset({'M', 'Unknown'}), items_add=frozenset({'unknown'}), confidence=1.0, lift=11.710526315789473), OrderedStatistic(items_base=frozenset({'unknown', 'M'}), items_add=frozenset({'Unknown'}), confidence=1.0, lift=11.710526315789473)]),\n",
       " RelationRecord(items=frozenset({'Sharp objects', 'knife', 'Not fleeing'}), support=0.11767109295199182, ordered_statistics=[OrderedStatistic(items_base=frozenset({'Sharp objects'}), items_add=frozenset({'knife', 'Not fleeing'}), confidence=0.7041564792176039, lift=5.984107579462103), OrderedStatistic(items_base=frozenset({'knife'}), items_add=frozenset({'Sharp objects', 'Not fleeing'}), confidence=0.8135593220338984, lift=5.961636049934031), OrderedStatistic(items_base=frozenset({'Sharp objects', 'Not fleeing'}), items_add=frozenset({'knife'}), confidence=0.8622754491017963, lift=5.96163604993403), OrderedStatistic(items_base=frozenset({'knife', 'Not fleeing'}), items_add=frozenset({'Sharp objects'}), confidence=1.0, lift=5.984107579462103)]),\n",
       " RelationRecord(items=frozenset({'Sharp objects', 'knife', 'White'}), support=0.07129724208375894, ordered_statistics=[OrderedStatistic(items_base=frozenset({'Sharp objects', 'White'}), items_add=frozenset({'knife'}), confidence=0.8835443037974685, lift=6.108685546735323), OrderedStatistic(items_base=frozenset({'knife', 'White'}), items_add=frozenset({'Sharp objects'}), confidence=1.0, lift=5.984107579462103)]),\n",
       " RelationRecord(items=frozenset({'Sharp objects', 'knife', 'attack'}), support=0.05658835546475996, ordered_statistics=[OrderedStatistic(items_base=frozenset({'Sharp objects', 'attack'}), items_add=frozenset({'knife'}), confidence=0.8765822784810127, lift=6.0605512050346855), OrderedStatistic(items_base=frozenset({'knife', 'attack'}), items_add=frozenset({'Sharp objects'}), confidence=1.0, lift=5.984107579462103)]),\n",
       " RelationRecord(items=frozenset({'other', 'Sharp objects', 'knife'}), support=0.08600612870275792, ordered_statistics=[OrderedStatistic(items_base=frozenset({'other', 'Sharp objects'}), items_add=frozenset({'knife'}), confidence=0.8591836734693877, lift=5.940260002306007), OrderedStatistic(items_base=frozenset({'other', 'knife'}), items_add=frozenset({'Sharp objects'}), confidence=1.0, lift=5.984107579462103)]),\n",
       " RelationRecord(items=frozenset({'Sharp objects', 'knife', 'shot'}), support=0.1244126659856997, ordered_statistics=[OrderedStatistic(items_base=frozenset({'Sharp objects'}), items_add=frozenset({'knife', 'shot'}), confidence=0.7444987775061125, lift=5.984107579462103), OrderedStatistic(items_base=frozenset({'knife'}), items_add=frozenset({'Sharp objects', 'shot'}), confidence=0.8601694915254238, lift=5.997905500024144), OrderedStatistic(items_base=frozenset({'Sharp objects', 'shot'}), items_add=frozenset({'knife'}), confidence=0.8675213675213674, lift=5.997905500024144), OrderedStatistic(items_base=frozenset({'knife', 'shot'}), items_add=frozenset({'Sharp objects'}), confidence=1.0, lift=5.984107579462103)]),\n",
       " RelationRecord(items=frozenset({'shot', 'unarmed', 'Unarmed'}), support=0.06312563840653729, ordered_statistics=[OrderedStatistic(items_base=frozenset({'Unarmed'}), items_add=frozenset({'unarmed', 'shot'}), confidence=0.8879310344827587, lift=14.066091954022989), OrderedStatistic(items_base=frozenset({'unarmed'}), items_add=frozenset({'Unarmed', 'shot'}), confidence=0.8879310344827587, lift=14.066091954022989), OrderedStatistic(items_base=frozenset({'shot', 'Unarmed'}), items_add=frozenset({'unarmed'}), confidence=1.0, lift=14.066091954022989), OrderedStatistic(items_base=frozenset({'unarmed', 'shot'}), items_add=frozenset({'Unarmed'}), confidence=1.0, lift=14.066091954022989)]),\n",
       " RelationRecord(items=frozenset({'unknown', 'Unknown', 'shot'}), support=0.08314606741573034, ordered_statistics=[OrderedStatistic(items_base=frozenset({'Unknown'}), items_add=frozenset({'unknown', 'shot'}), confidence=0.9736842105263158, lift=11.710526315789473), OrderedStatistic(items_base=frozenset({'unknown'}), items_add=frozenset({'Unknown', 'shot'}), confidence=0.9736842105263158, lift=11.710526315789473), OrderedStatistic(items_base=frozenset({'Unknown', 'shot'}), items_add=frozenset({'unknown'}), confidence=1.0, lift=11.710526315789473), OrderedStatistic(items_base=frozenset({'unknown', 'shot'}), items_add=frozenset({'Unknown'}), confidence=1.0, lift=11.710526315789473)]),\n",
       " RelationRecord(items=frozenset({'Sharp objects', 'knife', 'M', 'Not fleeing'}), support=0.11113381001021451, ordered_statistics=[OrderedStatistic(items_base=frozenset({'Sharp objects'}), items_add=frozenset({'knife', 'M', 'Not fleeing'}), confidence=0.665036674816626, lift=5.984107579462103), OrderedStatistic(items_base=frozenset({'knife'}), items_add=frozenset({'Sharp objects', 'M', 'Not fleeing'}), confidence=0.7683615819209041, lift=5.951154973896876), OrderedStatistic(items_base=frozenset({'Sharp objects', 'M'}), items_add=frozenset({'knife', 'Not fleeing'}), confidence=0.699228791773779, lift=5.942230791202514), OrderedStatistic(items_base=frozenset({'knife', 'M'}), items_add=frozenset({'Sharp objects', 'Not fleeing'}), confidence=0.8095238095238095, lift=5.932064442543484), OrderedStatistic(items_base=frozenset({'Sharp objects', 'Not fleeing'}), items_add=frozenset({'knife', 'M'}), confidence=0.8143712574850299, lift=5.932064442543484), OrderedStatistic(items_base=frozenset({'knife', 'Not fleeing'}), items_add=frozenset({'Sharp objects', 'M'}), confidence=0.9444444444444445, lift=5.942230791202514), OrderedStatistic(items_base=frozenset({'Sharp objects', 'M', 'Not fleeing'}), items_add=frozenset({'knife'}), confidence=0.8607594936708861, lift=5.951154973896876), OrderedStatistic(items_base=frozenset({'knife', 'M', 'Not fleeing'}), items_add=frozenset({'Sharp objects'}), confidence=1.0, lift=5.984107579462103)]),\n",
       " RelationRecord(items=frozenset({'Sharp objects', 'White', 'M', 'knife'}), support=0.06762002042900919, ordered_statistics=[OrderedStatistic(items_base=frozenset({'Sharp objects', 'White'}), items_add=frozenset({'knife', 'M'}), confidence=0.8379746835443038, lift=6.103997136829415), OrderedStatistic(items_base=frozenset({'knife', 'White'}), items_add=frozenset({'Sharp objects', 'M'}), confidence=0.9484240687679083, lift=5.967269687170837), OrderedStatistic(items_base=frozenset({'Sharp objects', 'White', 'M'}), items_add=frozenset({'knife'}), confidence=0.8850267379679144, lift=6.118934862080426), OrderedStatistic(items_base=frozenset({'White', 'M', 'knife'}), items_add=frozenset({'Sharp objects'}), confidence=1.0, lift=5.984107579462103)]),\n",
       " RelationRecord(items=frozenset({'Sharp objects', 'knife', 'M', 'attack'}), support=0.05454545454545454, ordered_statistics=[OrderedStatistic(items_base=frozenset({'Sharp objects', 'attack'}), items_add=frozenset({'knife', 'M'}), confidence=0.8449367088607594, lift=6.154710103978299), OrderedStatistic(items_base=frozenset({'knife', 'attack'}), items_add=frozenset({'Sharp objects', 'M'}), confidence=0.963898916967509, lift=6.064633931305856), OrderedStatistic(items_base=frozenset({'Sharp objects', 'M', 'attack'}), items_add=frozenset({'knife'}), confidence=0.8754098360655738, lift=6.052445123645457), OrderedStatistic(items_base=frozenset({'knife', 'M', 'attack'}), items_add=frozenset({'Sharp objects'}), confidence=1.0, lift=5.984107579462103)]),\n",
       " RelationRecord(items=frozenset({'other', 'Sharp objects', 'knife', 'M'}), support=0.08069458631256383, ordered_statistics=[OrderedStatistic(items_base=frozenset({'other', 'Sharp objects'}), items_add=frozenset({'knife', 'M'}), confidence=0.8061224489795917, lift=5.8719782555879485), OrderedStatistic(items_base=frozenset({'other', 'knife'}), items_add=frozenset({'Sharp objects', 'M'}), confidence=0.9382422802850355, lift=5.903208177371785), OrderedStatistic(items_base=frozenset({'other', 'Sharp objects', 'M'}), items_add=frozenset({'knife'}), confidence=0.8549783549783548, lift=5.911185095507129), OrderedStatistic(items_base=frozenset({'other', 'knife', 'M'}), items_add=frozenset({'Sharp objects'}), confidence=1.0, lift=5.984107579462103)]),\n",
       " RelationRecord(items=frozenset({'Sharp objects', 'knife', 'M', 'shot'}), support=0.11807967313585291, ordered_statistics=[OrderedStatistic(items_base=frozenset({'Sharp objects'}), items_add=frozenset({'knife', 'M', 'shot'}), confidence=0.706601466992665, lift=5.984107579462103), OrderedStatistic(items_base=frozenset({'knife'}), items_add=frozenset({'Sharp objects', 'M', 'shot'}), confidence=0.8163841807909605, lift=5.991305194860198), OrderedStatistic(items_base=frozenset({'Sharp objects', 'M'}), items_add=frozenset({'knife', 'shot'}), confidence=0.7429305912596401, lift=5.97150286406558), OrderedStatistic(items_base=frozenset({'knife', 'M'}), items_add=frozenset({'Sharp objects', 'shot'}), confidence=0.8601190476190476, lift=5.997553757970424), OrderedStatistic(items_base=frozenset({'Sharp objects', 'shot'}), items_add=frozenset({'knife', 'M'}), confidence=0.8233618233618233, lift=5.997553757970424), OrderedStatistic(items_base=frozenset({'knife', 'shot'}), items_add=frozenset({'Sharp objects', 'M'}), confidence=0.9490968801313628, lift=5.97150286406558), OrderedStatistic(items_base=frozenset({'Sharp objects', 'M', 'shot'}), items_add=frozenset({'knife'}), confidence=0.8665667166416792, lift=5.991305194860198), OrderedStatistic(items_base=frozenset({'knife', 'M', 'shot'}), items_add=frozenset({'Sharp objects'}), confidence=1.0, lift=5.984107579462103)]),\n",
       " RelationRecord(items=frozenset({'shot', 'unarmed', 'M', 'Unarmed'}), support=0.05801838610827375, ordered_statistics=[OrderedStatistic(items_base=frozenset({'Unarmed'}), items_add=frozenset({'unarmed', 'M', 'shot'}), confidence=0.8160919540229885, lift=14.066091954022989), OrderedStatistic(items_base=frozenset({'unarmed'}), items_add=frozenset({'Unarmed', 'M', 'shot'}), confidence=0.8160919540229885, lift=14.066091954022989), OrderedStatistic(items_base=frozenset({'M', 'Unarmed'}), items_add=frozenset({'unarmed', 'shot'}), confidence=0.8792569659442724, lift=13.92868235694891), OrderedStatistic(items_base=frozenset({'unarmed', 'M'}), items_add=frozenset({'Unarmed', 'shot'}), confidence=0.8792569659442724, lift=13.92868235694891), OrderedStatistic(items_base=frozenset({'shot', 'Unarmed'}), items_add=frozenset({'unarmed', 'M'}), confidence=0.919093851132686, lift=13.92868235694891), OrderedStatistic(items_base=frozenset({'unarmed', 'shot'}), items_add=frozenset({'M', 'Unarmed'}), confidence=0.919093851132686, lift=13.92868235694891), OrderedStatistic(items_base=frozenset({'shot', 'M', 'Unarmed'}), items_add=frozenset({'unarmed'}), confidence=1.0, lift=14.066091954022989), OrderedStatistic(items_base=frozenset({'unarmed', 'M', 'shot'}), items_add=frozenset({'Unarmed'}), confidence=1.0, lift=14.066091954022989)]),\n",
       " RelationRecord(items=frozenset({'unknown', 'M', 'Unknown', 'shot'}), support=0.0794688457609806, ordered_statistics=[OrderedStatistic(items_base=frozenset({'Unknown'}), items_add=frozenset({'unknown', 'M', 'shot'}), confidence=0.930622009569378, lift=11.710526315789474), OrderedStatistic(items_base=frozenset({'unknown'}), items_add=frozenset({'M', 'Unknown', 'shot'}), confidence=0.930622009569378, lift=11.710526315789474), OrderedStatistic(items_base=frozenset({'M', 'Unknown'}), items_add=frozenset({'unknown', 'shot'}), confidence=0.9725, lift=11.696283783783784), OrderedStatistic(items_base=frozenset({'unknown', 'M'}), items_add=frozenset({'Unknown', 'shot'}), confidence=0.9725, lift=11.696283783783784), OrderedStatistic(items_base=frozenset({'Unknown', 'shot'}), items_add=frozenset({'unknown', 'M'}), confidence=0.9557739557739557, lift=11.696283783783784), OrderedStatistic(items_base=frozenset({'unknown', 'shot'}), items_add=frozenset({'M', 'Unknown'}), confidence=0.9557739557739557, lift=11.696283783783784), OrderedStatistic(items_base=frozenset({'M', 'Unknown', 'shot'}), items_add=frozenset({'unknown'}), confidence=1.0, lift=11.710526315789473), OrderedStatistic(items_base=frozenset({'unknown', 'M', 'shot'}), items_add=frozenset({'Unknown'}), confidence=1.0, lift=11.710526315789473)]),\n",
       " RelationRecord(items=frozenset({'Sharp objects', 'knife', 'White', 'Not fleeing'}), support=0.058426966292134834, ordered_statistics=[OrderedStatistic(items_base=frozenset({'Sharp objects', 'White'}), items_add=frozenset({'knife', 'Not fleeing'}), confidence=0.7240506329113925, lift=6.153173347398032), OrderedStatistic(items_base=frozenset({'knife', 'White'}), items_add=frozenset({'Sharp objects', 'Not fleeing'}), confidence=0.8194842406876791, lift=6.005052931386511), OrderedStatistic(items_base=frozenset({'Sharp objects', 'White', 'Not fleeing'}), items_add=frozenset({'knife'}), confidence=0.8719512195121952, lift=6.028532795921181), OrderedStatistic(items_base=frozenset({'knife', 'White', 'Not fleeing'}), items_add=frozenset({'Sharp objects'}), confidence=1.0, lift=5.984107579462103)]),\n",
       " RelationRecord(items=frozenset({'other', 'Sharp objects', 'knife', 'Not fleeing'}), support=0.06762002042900919, ordered_statistics=[OrderedStatistic(items_base=frozenset({'other', 'Sharp objects'}), items_add=frozenset({'knife', 'Not fleeing'}), confidence=0.6755102040816326, lift=5.740663973922903), OrderedStatistic(items_base=frozenset({'other', 'knife'}), items_add=frozenset({'Sharp objects', 'Not fleeing'}), confidence=0.7862232779097387, lift=5.76132177450325), OrderedStatistic(items_base=frozenset({'other', 'Sharp objects', 'Not fleeing'}), items_add=frozenset({'knife'}), confidence=0.8487179487179487, lift=5.867901636969434), OrderedStatistic(items_base=frozenset({'other', 'knife', 'Not fleeing'}), items_add=frozenset({'Sharp objects'}), confidence=1.0, lift=5.984107579462103)]),\n",
       " RelationRecord(items=frozenset({'Sharp objects', 'shot', 'knife', 'Not fleeing'}), support=0.1017364657814096, ordered_statistics=[OrderedStatistic(items_base=frozenset({'Sharp objects'}), items_add=frozenset({'knife', 'Not fleeing', 'shot'}), confidence=0.6088019559902201, lift=5.984107579462104), OrderedStatistic(items_base=frozenset({'knife'}), items_add=frozenset({'Sharp objects', 'Not fleeing', 'shot'}), confidence=0.7033898305084746, lift=5.998420244493002), OrderedStatistic(items_base=frozenset({'Sharp objects', 'Not fleeing'}), items_add=frozenset({'knife', 'shot'}), confidence=0.7455089820359281, lift=5.99222736792425), OrderedStatistic(items_base=frozenset({'knife', 'Not fleeing'}), items_add=frozenset({'Sharp objects', 'shot'}), confidence=0.8645833333333334, lift=6.028682929724596), OrderedStatistic(items_base=frozenset({'Sharp objects', 'shot'}), items_add=frozenset({'knife', 'Not fleeing'}), confidence=0.7094017094017093, lift=6.028682929724596), OrderedStatistic(items_base=frozenset({'knife', 'shot'}), items_add=frozenset({'Sharp objects', 'Not fleeing'}), confidence=0.8177339901477833, lift=5.99222736792425), OrderedStatistic(items_base=frozenset({'Sharp objects', 'shot', 'Not fleeing'}), items_add=frozenset({'knife'}), confidence=0.8675958188153311, lift=5.998420244493003), OrderedStatistic(items_base=frozenset({'shot', 'knife', 'Not fleeing'}), items_add=frozenset({'Sharp objects'}), confidence=1.0, lift=5.984107579462103)]),\n",
       " RelationRecord(items=frozenset({'Sharp objects', 'knife', 'White', 'shot'}), support=0.06149131767109295, ordered_statistics=[OrderedStatistic(items_base=frozenset({'Sharp objects', 'White'}), items_add=frozenset({'knife', 'shot'}), confidence=0.7620253164556963, lift=6.124981812891023), OrderedStatistic(items_base=frozenset({'knife', 'White'}), items_add=frozenset({'Sharp objects', 'shot'}), confidence=0.8624641833810888, lift=6.013906235969272), OrderedStatistic(items_base=frozenset({'Sharp objects', 'White', 'shot'}), items_add=frozenset({'knife'}), confidence=0.8905325443786981, lift=6.1570011366295585), OrderedStatistic(items_base=frozenset({'knife', 'White', 'shot'}), items_add=frozenset({'Sharp objects'}), confidence=1.0, lift=5.984107579462103)]),\n",
       " RelationRecord(items=frozenset({'other', 'Sharp objects', 'knife', 'shot'}), support=0.07272727272727272, ordered_statistics=[OrderedStatistic(items_base=frozenset({'other', 'Sharp objects'}), items_add=frozenset({'knife', 'shot'}), confidence=0.7265306122448979, lift=5.839683656713917), OrderedStatistic(items_base=frozenset({'other', 'knife'}), items_add=frozenset({'Sharp objects', 'shot'}), confidence=0.845605700712589, lift=5.896353141008722), OrderedStatistic(items_base=frozenset({'other', 'Sharp objects', 'shot'}), items_add=frozenset({'knife'}), confidence=0.8578313253012048, lift=5.930910081001974), OrderedStatistic(items_base=frozenset({'other', 'knife', 'shot'}), items_add=frozenset({'Sharp objects'}), confidence=1.0, lift=5.984107579462103)]),\n",
       " RelationRecord(items=frozenset({'Sharp objects', 'White', 'M', 'knife', 'Not fleeing'}), support=0.05515832482124617, ordered_statistics=[OrderedStatistic(items_base=frozenset({'Sharp objects', 'White'}), items_add=frozenset({'knife', 'M', 'Not fleeing'}), confidence=0.6835443037974684, lift=6.150642218912882), OrderedStatistic(items_base=frozenset({'knife', 'White'}), items_add=frozenset({'Sharp objects', 'M', 'Not fleeing'}), confidence=0.7736389684813754, lift=5.992029668854957), OrderedStatistic(items_base=frozenset({'Sharp objects', 'White', 'M'}), items_add=frozenset({'knife', 'Not fleeing'}), confidence=0.7219251336898396, lift=6.135110294117648), OrderedStatistic(items_base=frozenset({'White', 'M', 'knife'}), items_add=frozenset({'Sharp objects', 'Not fleeing'}), confidence=0.8157099697885196, lift=5.977395661848508), OrderedStatistic(items_base=frozenset({'Sharp objects', 'White', 'Not fleeing'}), items_add=frozenset({'knife', 'M'}), confidence=0.8231707317073171, lift=5.996161803135888), OrderedStatistic(items_base=frozenset({'knife', 'White', 'Not fleeing'}), items_add=frozenset({'Sharp objects', 'M'}), confidence=0.9440559440559441, lift=5.939786434645046), OrderedStatistic(items_base=frozenset({'Sharp objects', 'White', 'M', 'Not fleeing'}), items_add=frozenset({'knife'}), confidence=0.8737864077669902, lift=6.041220997202567), OrderedStatistic(items_base=frozenset({'White', 'M', 'knife', 'Not fleeing'}), items_add=frozenset({'Sharp objects'}), confidence=1.0, lift=5.984107579462103)]),\n",
       " RelationRecord(items=frozenset({'Sharp objects', 'other', 'M', 'knife', 'Not fleeing'}), support=0.06312563840653729, ordered_statistics=[OrderedStatistic(items_base=frozenset({'other', 'Sharp objects'}), items_add=frozenset({'knife', 'M', 'Not fleeing'}), confidence=0.6306122448979592, lift=5.674350990396158), OrderedStatistic(items_base=frozenset({'other', 'knife'}), items_add=frozenset({'Sharp objects', 'M', 'Not fleeing'}), confidence=0.7339667458432304, lift=5.684758260921856), OrderedStatistic(items_base=frozenset({'other', 'Sharp objects', 'M'}), items_add=frozenset({'knife', 'Not fleeing'}), confidence=0.6688311688311689, lift=5.683903769841271), OrderedStatistic(items_base=frozenset({'other', 'knife', 'M'}), items_add=frozenset({'Sharp objects', 'Not fleeing'}), confidence=0.7822784810126584, lift=5.732414917001441), OrderedStatistic(items_base=frozenset({'other', 'Sharp objects', 'Not fleeing'}), items_add=frozenset({'knife', 'M'}), confidence=0.7923076923076924, lift=5.771348443223443), OrderedStatistic(items_base=frozenset({'other', 'knife', 'Not fleeing'}), items_add=frozenset({'Sharp objects', 'M'}), confidence=0.933534743202417, lift=5.873589418992071), OrderedStatistic(items_base=frozenset({'other', 'Sharp objects', 'M', 'Not fleeing'}), items_add=frozenset({'knife'}), confidence=0.8442622950819672, lift=5.83709595257942), OrderedStatistic(items_base=frozenset({'other', 'knife', 'M', 'Not fleeing'}), items_add=frozenset({'Sharp objects'}), confidence=1.0, lift=5.984107579462103)]),\n",
       " RelationRecord(items=frozenset({'Sharp objects', 'M', 'knife', 'Not fleeing', 'shot'}), support=0.09601634320735444, ordered_statistics=[OrderedStatistic(items_base=frozenset({'knife'}), items_add=frozenset({'Sharp objects', 'shot', 'M', 'Not fleeing'}), confidence=0.6638418079096046, lift=5.995397877707591), OrderedStatistic(items_base=frozenset({'Sharp objects', 'M'}), items_add=frozenset({'shot', 'knife', 'Not fleeing'}), confidence=0.6041131105398457, lift=5.938019429904709), OrderedStatistic(items_base=frozenset({'knife', 'M'}), items_add=frozenset({'Sharp objects', 'shot', 'Not fleeing'}), confidence=0.6994047619047619, lift=5.964436079309773), OrderedStatistic(items_base=frozenset({'Sharp objects', 'Not fleeing'}), items_add=frozenset({'knife', 'M', 'shot'}), confidence=0.7035928143712574, lift=5.9586277272444725), OrderedStatistic(items_base=frozenset({'knife', 'Not fleeing'}), items_add=frozenset({'Sharp objects', 'M', 'shot'}), confidence=0.8159722222222222, lift=5.988281900716308), OrderedStatistic(items_base=frozenset({'Sharp objects', 'shot'}), items_add=frozenset({'knife', 'M', 'Not fleeing'}), confidence=0.6695156695156694, lift=6.024410298307356), OrderedStatistic(items_base=frozenset({'knife', 'shot'}), items_add=frozenset({'Sharp objects', 'M', 'Not fleeing'}), confidence=0.7717569786535303, lift=5.977453181185176), OrderedStatistic(items_base=frozenset({'Sharp objects', 'M', 'Not fleeing'}), items_add=frozenset({'knife', 'shot'}), confidence=0.7436708860759494, lift=5.977453181185177), OrderedStatistic(items_base=frozenset({'knife', 'M', 'Not fleeing'}), items_add=frozenset({'Sharp objects', 'shot'}), confidence=0.863970588235294, lift=6.024410298307356), OrderedStatistic(items_base=frozenset({'Sharp objects', 'M', 'shot'}), items_add=frozenset({'knife', 'Not fleeing'}), confidence=0.704647676161919, lift=5.988281900716308), OrderedStatistic(items_base=frozenset({'knife', 'M', 'shot'}), items_add=frozenset({'Sharp objects', 'Not fleeing'}), confidence=0.8131487889273357, lift=5.9586277272444725), OrderedStatistic(items_base=frozenset({'Sharp objects', 'shot', 'Not fleeing'}), items_add=frozenset({'knife', 'M'}), confidence=0.818815331010453, lift=5.964436079309773), OrderedStatistic(items_base=frozenset({'shot', 'knife', 'Not fleeing'}), items_add=frozenset({'Sharp objects', 'M'}), confidence=0.9437751004016064, lift=5.938019429904709), OrderedStatistic(items_base=frozenset({'Sharp objects', 'shot', 'M', 'Not fleeing'}), items_add=frozenset({'knife'}), confidence=0.8671586715867159, lift=5.995397877707592), OrderedStatistic(items_base=frozenset({'shot', 'knife', 'M', 'Not fleeing'}), items_add=frozenset({'Sharp objects'}), confidence=1.0, lift=5.984107579462103)]),\n",
       " RelationRecord(items=frozenset({'Sharp objects', 'White', 'M', 'knife', 'shot'}), support=0.058426966292134834, ordered_statistics=[OrderedStatistic(items_base=frozenset({'Sharp objects', 'White'}), items_add=frozenset({'knife', 'M', 'shot'}), confidence=0.7240506329113925, lift=6.131882090140599), OrderedStatistic(items_base=frozenset({'knife', 'White'}), items_add=frozenset({'Sharp objects', 'M', 'shot'}), confidence=0.8194842406876791, lift=6.014056009244661), OrderedStatistic(items_base=frozenset({'Sharp objects', 'White', 'M'}), items_add=frozenset({'knife', 'shot'}), confidence=0.7647058823529412, lift=6.146527576547861), OrderedStatistic(items_base=frozenset({'White', 'M', 'knife'}), items_add=frozenset({'Sharp objects', 'shot'}), confidence=0.8640483383685801, lift=6.024952444892022), OrderedStatistic(items_base=frozenset({'Sharp objects', 'White', 'shot'}), items_add=frozenset({'knife', 'M'}), confidence=0.8461538461538461, lift=6.163576007326007), OrderedStatistic(items_base=frozenset({'knife', 'White', 'shot'}), items_add=frozenset({'Sharp objects', 'M'}), confidence=0.9501661129568107, lift=5.978230235120294), OrderedStatistic(items_base=frozenset({'Sharp objects', 'White', 'M', 'shot'}), items_add=frozenset({'knife'}), confidence=0.89375, lift=6.17924611581921), OrderedStatistic(items_base=frozenset({'White', 'M', 'knife', 'shot'}), items_add=frozenset({'Sharp objects'}), confidence=1.0, lift=5.984107579462103)]),\n",
       " RelationRecord(items=frozenset({'Sharp objects', 'other', 'M', 'knife', 'shot'}), support=0.06823289070480082, ordered_statistics=[OrderedStatistic(items_base=frozenset({'other', 'Sharp objects'}), items_add=frozenset({'knife', 'M', 'shot'}), confidence=0.6816326530612244, lift=5.772650236565214), OrderedStatistic(items_base=frozenset({'other', 'knife'}), items_add=frozenset({'Sharp objects', 'M', 'shot'}), confidence=0.7933491686460807, lift=5.822255143212241), OrderedStatistic(items_base=frozenset({'other', 'Sharp objects', 'M'}), items_add=frozenset({'knife', 'shot'}), confidence=0.7229437229437229, lift=5.810853076862928), OrderedStatistic(items_base=frozenset({'other', 'knife', 'M'}), items_add=frozenset({'Sharp objects', 'shot'}), confidence=0.8455696202531646, lift=5.896101554329403), OrderedStatistic(items_base=frozenset({'other', 'Sharp objects', 'shot'}), items_add=frozenset({'knife', 'M'}), confidence=0.8048192771084337, lift=5.862485656913367), OrderedStatistic(items_base=frozenset({'other', 'knife', 'shot'}), items_add=frozenset({'Sharp objects', 'M'}), confidence=0.9382022471910113, lift=5.902956298200515), OrderedStatistic(items_base=frozenset({'other', 'Sharp objects', 'M', 'shot'}), items_add=frozenset({'knife'}), confidence=0.8542199488491048, lift=5.905941595503345), OrderedStatistic(items_base=frozenset({'other', 'knife', 'M', 'shot'}), items_add=frozenset({'Sharp objects'}), confidence=1.0, lift=5.984107579462103)]),\n",
       " RelationRecord(items=frozenset({'Sharp objects', 'White', 'knife', 'Not fleeing', 'shot'}), support=0.05066394279877426, ordered_statistics=[OrderedStatistic(items_base=frozenset({'Sharp objects', 'White'}), items_add=frozenset({'shot', 'knife', 'Not fleeing'}), confidence=0.6278481012658228, lift=6.171318184128921), OrderedStatistic(items_base=frozenset({'knife', 'White'}), items_add=frozenset({'Sharp objects', 'shot', 'Not fleeing'}), confidence=0.7106017191977076, lift=6.059922326607629), OrderedStatistic(items_base=frozenset({'Sharp objects', 'White', 'Not fleeing'}), items_add=frozenset({'knife', 'shot'}), confidence=0.7560975609756098, lift=6.077335896511674), OrderedStatistic(items_base=frozenset({'knife', 'White', 'Not fleeing'}), items_add=frozenset({'Sharp objects', 'shot'}), confidence=0.8671328671328671, lift=6.046460661845276), OrderedStatistic(items_base=frozenset({'Sharp objects', 'White', 'shot'}), items_add=frozenset({'knife', 'Not fleeing'}), confidence=0.7337278106508875, lift=6.235412557527942), OrderedStatistic(items_base=frozenset({'knife', 'White', 'shot'}), items_add=frozenset({'Sharp objects', 'Not fleeing'}), confidence=0.823920265780731, lift=6.037559432629758), OrderedStatistic(items_base=frozenset({'Sharp objects', 'shot', 'White', 'Not fleeing'}), items_add=frozenset({'knife'}), confidence=0.8794326241134752, lift=6.080258043835397), OrderedStatistic(items_base=frozenset({'shot', 'knife', 'White', 'Not fleeing'}), items_add=frozenset({'Sharp objects'}), confidence=1.0, lift=5.984107579462103)]),\n",
       " RelationRecord(items=frozenset({'Sharp objects', 'other', 'knife', 'Not fleeing', 'shot'}), support=0.05720122574055159, ordered_statistics=[OrderedStatistic(items_base=frozenset({'other', 'knife'}), items_add=frozenset({'Sharp objects', 'shot', 'Not fleeing'}), confidence=0.665083135391924, lift=5.671745553560049), OrderedStatistic(items_base=frozenset({'other', 'Sharp objects', 'Not fleeing'}), items_add=frozenset({'knife', 'shot'}), confidence=0.717948717948718, lift=5.770704391394046), OrderedStatistic(items_base=frozenset({'other', 'knife', 'Not fleeing'}), items_add=frozenset({'Sharp objects', 'shot'}), confidence=0.8459214501510575, lift=5.898554841153029), OrderedStatistic(items_base=frozenset({'other', 'Sharp objects', 'shot'}), items_add=frozenset({'knife', 'Not fleeing'}), confidence=0.674698795180723, lift=5.733768406961179), OrderedStatistic(items_base=frozenset({'other', 'knife', 'shot'}), items_add=frozenset({'Sharp objects', 'Not fleeing'}), confidence=0.7865168539325843, lift=5.763473053892215), OrderedStatistic(items_base=frozenset({'other', 'Sharp objects', 'shot', 'Not fleeing'}), items_add=frozenset({'knife'}), confidence=0.8510638297872342, lift=5.8841206875826435), OrderedStatistic(items_base=frozenset({'other', 'shot', 'knife', 'Not fleeing'}), items_add=frozenset({'Sharp objects'}), confidence=1.0, lift=5.984107579462103)]),\n",
       " RelationRecord(items=frozenset({'Sharp objects', 'other', 'M', 'knife', 'Not fleeing', 'shot'}), support=0.053319713993871296, ordered_statistics=[OrderedStatistic(items_base=frozenset({'other', 'knife'}), items_add=frozenset({'Sharp objects', 'shot', 'M', 'Not fleeing'}), confidence=0.6199524940617577, lift=5.59901745098211), OrderedStatistic(items_base=frozenset({'other', 'knife', 'M'}), items_add=frozenset({'Sharp objects', 'shot', 'Not fleeing'}), confidence=0.6607594936708862, lift=5.6348740793013725), OrderedStatistic(items_base=frozenset({'other', 'Sharp objects', 'Not fleeing'}), items_add=frozenset({'knife', 'M', 'shot'}), confidence=0.6692307692307692, lift=5.667620441841895), OrderedStatistic(items_base=frozenset({'other', 'knife', 'Not fleeing'}), items_add=frozenset({'Sharp objects', 'M', 'shot'}), confidence=0.7885196374622356, lift=5.78681203205044), OrderedStatistic(items_base=frozenset({'other', 'Sharp objects', 'shot'}), items_add=frozenset({'knife', 'M', 'Not fleeing'}), confidence=0.6289156626506024, lift=5.659084868887313), OrderedStatistic(items_base=frozenset({'other', 'knife', 'shot'}), items_add=frozenset({'Sharp objects', 'M', 'Not fleeing'}), confidence=0.7331460674157303, lift=5.678401898734177), OrderedStatistic(items_base=frozenset({'other', 'Sharp objects', 'M', 'Not fleeing'}), items_add=frozenset({'knife', 'shot'}), confidence=0.7131147540983606, lift=5.731850117096018), OrderedStatistic(items_base=frozenset({'other', 'knife', 'M', 'Not fleeing'}), items_add=frozenset({'Sharp objects', 'shot'}), confidence=0.8446601941747572, lift=5.88976018587669), OrderedStatistic(items_base=frozenset({'other', 'Sharp objects', 'M', 'shot'}), items_add=frozenset({'knife', 'Not fleeing'}), confidence=0.6675191815856777, lift=5.67275415601023), OrderedStatistic(items_base=frozenset({'other', 'knife', 'M', 'shot'}), items_add=frozenset({'Sharp objects', 'Not fleeing'}), confidence=0.781437125748503, lift=5.726249596615153), OrderedStatistic(items_base=frozenset({'other', 'Sharp objects', 'shot', 'Not fleeing'}), items_add=frozenset({'knife', 'M'}), confidence=0.7933130699088146, lift=5.778671841076855), OrderedStatistic(items_base=frozenset({'other', 'shot', 'knife', 'Not fleeing'}), items_add=frozenset({'Sharp objects', 'M'}), confidence=0.932142857142857, lift=5.864831986779286), OrderedStatistic(items_base=frozenset({'Sharp objects', 'other', 'M', 'Not fleeing', 'shot'}), items_add=frozenset({'knife'}), confidence=0.8474025974025973, lift=5.858807506053268), OrderedStatistic(items_base=frozenset({'other', 'M', 'knife', 'Not fleeing', 'shot'}), items_add=frozenset({'Sharp objects'}), confidence=1.0, lift=5.984107579462103)])]"
      ]
     },
     "execution_count": 11,
     "metadata": {},
     "output_type": "execute_result"
    }
   ],
   "source": [
    "results"
   ]
  },
  {
   "cell_type": "code",
   "execution_count": 12,
   "metadata": {},
   "outputs": [],
   "source": [
    "lift = []\n",
    "association = []\n",
    "for i in range (0, len(results)):\n",
    "    lift.append(results[:len(results)][i][2][0][3])\n",
    "    association.append(list(results[:len(results)][i][0]))"
   ]
  },
  {
   "cell_type": "markdown",
   "metadata": {},
   "source": [
    "### Visualizing results in a dataframe"
   ]
  },
  {
   "cell_type": "code",
   "execution_count": 13,
   "metadata": {},
   "outputs": [],
   "source": [
    "rank = pd.DataFrame([association, lift]).transpose()\n",
    "rank.columns = ['Association', 'Lift']"
   ]
  },
  {
   "cell_type": "code",
   "execution_count": 14,
   "metadata": {},
   "outputs": [
    {
     "data": {
      "text/html": [
       "<div>\n",
       "<style scoped>\n",
       "    .dataframe tbody tr th:only-of-type {\n",
       "        vertical-align: middle;\n",
       "    }\n",
       "\n",
       "    .dataframe tbody tr th {\n",
       "        vertical-align: top;\n",
       "    }\n",
       "\n",
       "    .dataframe thead th {\n",
       "        text-align: right;\n",
       "    }\n",
       "</style>\n",
       "<table border=\"1\" class=\"dataframe\">\n",
       "  <thead>\n",
       "    <tr style=\"text-align: right;\">\n",
       "      <th></th>\n",
       "      <th>Association</th>\n",
       "      <th>Lift</th>\n",
       "    </tr>\n",
       "  </thead>\n",
       "  <tbody>\n",
       "    <tr>\n",
       "      <th>18</th>\n",
       "      <td>[shot, unarmed, M, Unarmed]</td>\n",
       "      <td>14.0661</td>\n",
       "    </tr>\n",
       "    <tr>\n",
       "      <th>11</th>\n",
       "      <td>[shot, unarmed, Unarmed]</td>\n",
       "      <td>14.0661</td>\n",
       "    </tr>\n",
       "    <tr>\n",
       "      <th>4</th>\n",
       "      <td>[unarmed, M, Unarmed]</td>\n",
       "      <td>14.0661</td>\n",
       "    </tr>\n",
       "    <tr>\n",
       "      <th>1</th>\n",
       "      <td>[unarmed, Unarmed]</td>\n",
       "      <td>14.0661</td>\n",
       "    </tr>\n",
       "    <tr>\n",
       "      <th>5</th>\n",
       "      <td>[unknown, M, Unknown]</td>\n",
       "      <td>11.7105</td>\n",
       "    </tr>\n",
       "    <tr>\n",
       "      <th>19</th>\n",
       "      <td>[unknown, M, Unknown, shot]</td>\n",
       "      <td>11.7105</td>\n",
       "    </tr>\n",
       "    <tr>\n",
       "      <th>2</th>\n",
       "      <td>[unknown, Unknown]</td>\n",
       "      <td>11.7105</td>\n",
       "    </tr>\n",
       "    <tr>\n",
       "      <th>12</th>\n",
       "      <td>[unknown, Unknown, shot]</td>\n",
       "      <td>11.7105</td>\n",
       "    </tr>\n",
       "    <tr>\n",
       "      <th>30</th>\n",
       "      <td>[Sharp objects, White, knife, Not fleeing, shot]</td>\n",
       "      <td>6.17132</td>\n",
       "    </tr>\n",
       "    <tr>\n",
       "      <th>15</th>\n",
       "      <td>[Sharp objects, knife, M, attack]</td>\n",
       "      <td>6.15471</td>\n",
       "    </tr>\n",
       "    <tr>\n",
       "      <th>20</th>\n",
       "      <td>[Sharp objects, knife, White, Not fleeing]</td>\n",
       "      <td>6.15317</td>\n",
       "    </tr>\n",
       "    <tr>\n",
       "      <th>25</th>\n",
       "      <td>[Sharp objects, White, M, knife, Not fleeing]</td>\n",
       "      <td>6.15064</td>\n",
       "    </tr>\n",
       "    <tr>\n",
       "      <th>28</th>\n",
       "      <td>[Sharp objects, White, M, knife, shot]</td>\n",
       "      <td>6.13188</td>\n",
       "    </tr>\n",
       "    <tr>\n",
       "      <th>23</th>\n",
       "      <td>[Sharp objects, knife, White, shot]</td>\n",
       "      <td>6.12498</td>\n",
       "    </tr>\n",
       "    <tr>\n",
       "      <th>7</th>\n",
       "      <td>[Sharp objects, knife, White]</td>\n",
       "      <td>6.10869</td>\n",
       "    </tr>\n",
       "    <tr>\n",
       "      <th>14</th>\n",
       "      <td>[Sharp objects, White, M, knife]</td>\n",
       "      <td>6.104</td>\n",
       "    </tr>\n",
       "    <tr>\n",
       "      <th>8</th>\n",
       "      <td>[Sharp objects, knife, attack]</td>\n",
       "      <td>6.06055</td>\n",
       "    </tr>\n",
       "    <tr>\n",
       "      <th>27</th>\n",
       "      <td>[Sharp objects, M, knife, Not fleeing, shot]</td>\n",
       "      <td>5.9954</td>\n",
       "    </tr>\n",
       "    <tr>\n",
       "      <th>22</th>\n",
       "      <td>[Sharp objects, shot, knife, Not fleeing]</td>\n",
       "      <td>5.98411</td>\n",
       "    </tr>\n",
       "    <tr>\n",
       "      <th>0</th>\n",
       "      <td>[Sharp objects, knife]</td>\n",
       "      <td>5.98411</td>\n",
       "    </tr>\n",
       "  </tbody>\n",
       "</table>\n",
       "</div>"
      ],
      "text/plain": [
       "                                         Association     Lift\n",
       "18                       [shot, unarmed, M, Unarmed]  14.0661\n",
       "11                          [shot, unarmed, Unarmed]  14.0661\n",
       "4                              [unarmed, M, Unarmed]  14.0661\n",
       "1                                 [unarmed, Unarmed]  14.0661\n",
       "5                              [unknown, M, Unknown]  11.7105\n",
       "19                       [unknown, M, Unknown, shot]  11.7105\n",
       "2                                 [unknown, Unknown]  11.7105\n",
       "12                          [unknown, Unknown, shot]  11.7105\n",
       "30  [Sharp objects, White, knife, Not fleeing, shot]  6.17132\n",
       "15                 [Sharp objects, knife, M, attack]  6.15471\n",
       "20        [Sharp objects, knife, White, Not fleeing]  6.15317\n",
       "25     [Sharp objects, White, M, knife, Not fleeing]  6.15064\n",
       "28            [Sharp objects, White, M, knife, shot]  6.13188\n",
       "23               [Sharp objects, knife, White, shot]  6.12498\n",
       "7                      [Sharp objects, knife, White]  6.10869\n",
       "14                  [Sharp objects, White, M, knife]    6.104\n",
       "8                     [Sharp objects, knife, attack]  6.06055\n",
       "27      [Sharp objects, M, knife, Not fleeing, shot]   5.9954\n",
       "22         [Sharp objects, shot, knife, Not fleeing]  5.98411\n",
       "0                             [Sharp objects, knife]  5.98411"
      ]
     },
     "execution_count": 14,
     "metadata": {},
     "output_type": "execute_result"
    }
   ],
   "source": [
    "# Show top 20 higher lift scores\n",
    "rank.sort_values('Lift', ascending=False).head(20)"
   ]
  },
  {
   "cell_type": "markdown",
   "metadata": {},
   "source": [
    "By the study, police does not seem to target any particular community therefore showing no sign of racism. Many people shot were unarmed or very few of the suspects had any kind of sharp objects like a knife."
   ]
  },
  {
   "cell_type": "markdown",
   "metadata": {},
   "source": [
    "# Clustering"
   ]
  },
  {
   "cell_type": "markdown",
   "metadata": {},
   "source": [
    "Reading the data"
   ]
  },
  {
   "cell_type": "code",
   "execution_count": 15,
   "metadata": {},
   "outputs": [
    {
     "data": {
      "text/html": [
       "<div>\n",
       "<style scoped>\n",
       "    .dataframe tbody tr th:only-of-type {\n",
       "        vertical-align: middle;\n",
       "    }\n",
       "\n",
       "    .dataframe tbody tr th {\n",
       "        vertical-align: top;\n",
       "    }\n",
       "\n",
       "    .dataframe thead th {\n",
       "        text-align: right;\n",
       "    }\n",
       "</style>\n",
       "<table border=\"1\" class=\"dataframe\">\n",
       "  <thead>\n",
       "    <tr style=\"text-align: right;\">\n",
       "      <th></th>\n",
       "      <th>name</th>\n",
       "      <th>date</th>\n",
       "      <th>manner_of_death</th>\n",
       "      <th>armed</th>\n",
       "      <th>age</th>\n",
       "      <th>gender</th>\n",
       "      <th>race</th>\n",
       "      <th>city</th>\n",
       "      <th>state</th>\n",
       "      <th>signs_of_mental_illness</th>\n",
       "      <th>threat_level</th>\n",
       "      <th>flee</th>\n",
       "      <th>body_camera</th>\n",
       "      <th>arms_category</th>\n",
       "    </tr>\n",
       "  </thead>\n",
       "  <tbody>\n",
       "    <tr>\n",
       "      <th>0</th>\n",
       "      <td>Tim Elliot</td>\n",
       "      <td>02-01-2015</td>\n",
       "      <td>shot</td>\n",
       "      <td>gun</td>\n",
       "      <td>53.0</td>\n",
       "      <td>M</td>\n",
       "      <td>Asian</td>\n",
       "      <td>Shelton</td>\n",
       "      <td>WA</td>\n",
       "      <td>True</td>\n",
       "      <td>attack</td>\n",
       "      <td>Not fleeing</td>\n",
       "      <td>False</td>\n",
       "      <td>Guns</td>\n",
       "    </tr>\n",
       "    <tr>\n",
       "      <th>1</th>\n",
       "      <td>Lewis Lee Lembke</td>\n",
       "      <td>02-01-2015</td>\n",
       "      <td>shot</td>\n",
       "      <td>gun</td>\n",
       "      <td>47.0</td>\n",
       "      <td>M</td>\n",
       "      <td>White</td>\n",
       "      <td>Aloha</td>\n",
       "      <td>OR</td>\n",
       "      <td>False</td>\n",
       "      <td>attack</td>\n",
       "      <td>Not fleeing</td>\n",
       "      <td>False</td>\n",
       "      <td>Guns</td>\n",
       "    </tr>\n",
       "    <tr>\n",
       "      <th>2</th>\n",
       "      <td>John Paul Quintero</td>\n",
       "      <td>03-01-2015</td>\n",
       "      <td>shot and Tasered</td>\n",
       "      <td>unarmed</td>\n",
       "      <td>23.0</td>\n",
       "      <td>M</td>\n",
       "      <td>Hispanic</td>\n",
       "      <td>Wichita</td>\n",
       "      <td>KS</td>\n",
       "      <td>False</td>\n",
       "      <td>other</td>\n",
       "      <td>Not fleeing</td>\n",
       "      <td>False</td>\n",
       "      <td>Unarmed</td>\n",
       "    </tr>\n",
       "    <tr>\n",
       "      <th>3</th>\n",
       "      <td>Matthew Hoffman</td>\n",
       "      <td>04-01-2015</td>\n",
       "      <td>shot</td>\n",
       "      <td>toy weapon</td>\n",
       "      <td>32.0</td>\n",
       "      <td>M</td>\n",
       "      <td>White</td>\n",
       "      <td>San Francisco</td>\n",
       "      <td>CA</td>\n",
       "      <td>True</td>\n",
       "      <td>attack</td>\n",
       "      <td>Not fleeing</td>\n",
       "      <td>False</td>\n",
       "      <td>Other unusual objects</td>\n",
       "    </tr>\n",
       "    <tr>\n",
       "      <th>4</th>\n",
       "      <td>Michael Rodriguez</td>\n",
       "      <td>04-01-2015</td>\n",
       "      <td>shot</td>\n",
       "      <td>nail gun</td>\n",
       "      <td>39.0</td>\n",
       "      <td>M</td>\n",
       "      <td>Hispanic</td>\n",
       "      <td>Evans</td>\n",
       "      <td>CO</td>\n",
       "      <td>False</td>\n",
       "      <td>attack</td>\n",
       "      <td>Not fleeing</td>\n",
       "      <td>False</td>\n",
       "      <td>Piercing objects</td>\n",
       "    </tr>\n",
       "    <tr>\n",
       "      <th>...</th>\n",
       "      <td>...</td>\n",
       "      <td>...</td>\n",
       "      <td>...</td>\n",
       "      <td>...</td>\n",
       "      <td>...</td>\n",
       "      <td>...</td>\n",
       "      <td>...</td>\n",
       "      <td>...</td>\n",
       "      <td>...</td>\n",
       "      <td>...</td>\n",
       "      <td>...</td>\n",
       "      <td>...</td>\n",
       "      <td>...</td>\n",
       "      <td>...</td>\n",
       "    </tr>\n",
       "    <tr>\n",
       "      <th>4890</th>\n",
       "      <td>Rayshard Brooks</td>\n",
       "      <td>12-06-2020</td>\n",
       "      <td>shot</td>\n",
       "      <td>Taser</td>\n",
       "      <td>27.0</td>\n",
       "      <td>M</td>\n",
       "      <td>Black</td>\n",
       "      <td>Atlanta</td>\n",
       "      <td>GA</td>\n",
       "      <td>False</td>\n",
       "      <td>attack</td>\n",
       "      <td>Foot</td>\n",
       "      <td>True</td>\n",
       "      <td>Electrical devices</td>\n",
       "    </tr>\n",
       "    <tr>\n",
       "      <th>4891</th>\n",
       "      <td>Caine Van Pelt</td>\n",
       "      <td>12-06-2020</td>\n",
       "      <td>shot</td>\n",
       "      <td>gun</td>\n",
       "      <td>23.0</td>\n",
       "      <td>M</td>\n",
       "      <td>Black</td>\n",
       "      <td>Crown Point</td>\n",
       "      <td>IN</td>\n",
       "      <td>False</td>\n",
       "      <td>attack</td>\n",
       "      <td>Car</td>\n",
       "      <td>False</td>\n",
       "      <td>Guns</td>\n",
       "    </tr>\n",
       "    <tr>\n",
       "      <th>4892</th>\n",
       "      <td>Hannah Fizer</td>\n",
       "      <td>13-06-2020</td>\n",
       "      <td>shot</td>\n",
       "      <td>unarmed</td>\n",
       "      <td>25.0</td>\n",
       "      <td>F</td>\n",
       "      <td>White</td>\n",
       "      <td>Sedalia</td>\n",
       "      <td>MO</td>\n",
       "      <td>False</td>\n",
       "      <td>other</td>\n",
       "      <td>Not fleeing</td>\n",
       "      <td>False</td>\n",
       "      <td>Unarmed</td>\n",
       "    </tr>\n",
       "    <tr>\n",
       "      <th>4893</th>\n",
       "      <td>William Slyter</td>\n",
       "      <td>13-06-2020</td>\n",
       "      <td>shot</td>\n",
       "      <td>gun</td>\n",
       "      <td>22.0</td>\n",
       "      <td>M</td>\n",
       "      <td>White</td>\n",
       "      <td>Kansas City</td>\n",
       "      <td>MO</td>\n",
       "      <td>False</td>\n",
       "      <td>other</td>\n",
       "      <td>Other</td>\n",
       "      <td>False</td>\n",
       "      <td>Guns</td>\n",
       "    </tr>\n",
       "    <tr>\n",
       "      <th>4894</th>\n",
       "      <td>Nicholas Hirsh</td>\n",
       "      <td>15-06-2020</td>\n",
       "      <td>shot</td>\n",
       "      <td>gun</td>\n",
       "      <td>31.0</td>\n",
       "      <td>M</td>\n",
       "      <td>White</td>\n",
       "      <td>Lawrence</td>\n",
       "      <td>KS</td>\n",
       "      <td>False</td>\n",
       "      <td>attack</td>\n",
       "      <td>Car</td>\n",
       "      <td>False</td>\n",
       "      <td>Guns</td>\n",
       "    </tr>\n",
       "  </tbody>\n",
       "</table>\n",
       "<p>4895 rows × 14 columns</p>\n",
       "</div>"
      ],
      "text/plain": [
       "                    name        date   manner_of_death       armed   age  \\\n",
       "0             Tim Elliot  02-01-2015              shot         gun  53.0   \n",
       "1       Lewis Lee Lembke  02-01-2015              shot         gun  47.0   \n",
       "2     John Paul Quintero  03-01-2015  shot and Tasered     unarmed  23.0   \n",
       "3        Matthew Hoffman  04-01-2015              shot  toy weapon  32.0   \n",
       "4      Michael Rodriguez  04-01-2015              shot    nail gun  39.0   \n",
       "...                  ...         ...               ...         ...   ...   \n",
       "4890     Rayshard Brooks  12-06-2020              shot       Taser  27.0   \n",
       "4891      Caine Van Pelt  12-06-2020              shot         gun  23.0   \n",
       "4892        Hannah Fizer  13-06-2020              shot     unarmed  25.0   \n",
       "4893      William Slyter  13-06-2020              shot         gun  22.0   \n",
       "4894      Nicholas Hirsh  15-06-2020              shot         gun  31.0   \n",
       "\n",
       "     gender      race           city state  signs_of_mental_illness  \\\n",
       "0         M     Asian        Shelton    WA                     True   \n",
       "1         M     White          Aloha    OR                    False   \n",
       "2         M  Hispanic        Wichita    KS                    False   \n",
       "3         M     White  San Francisco    CA                     True   \n",
       "4         M  Hispanic          Evans    CO                    False   \n",
       "...     ...       ...            ...   ...                      ...   \n",
       "4890      M     Black        Atlanta    GA                    False   \n",
       "4891      M     Black    Crown Point    IN                    False   \n",
       "4892      F     White        Sedalia    MO                    False   \n",
       "4893      M     White    Kansas City    MO                    False   \n",
       "4894      M     White       Lawrence    KS                    False   \n",
       "\n",
       "     threat_level         flee  body_camera          arms_category  \n",
       "0          attack  Not fleeing        False                   Guns  \n",
       "1          attack  Not fleeing        False                   Guns  \n",
       "2           other  Not fleeing        False                Unarmed  \n",
       "3          attack  Not fleeing        False  Other unusual objects  \n",
       "4          attack  Not fleeing        False       Piercing objects  \n",
       "...           ...          ...          ...                    ...  \n",
       "4890       attack         Foot         True     Electrical devices  \n",
       "4891       attack          Car        False                   Guns  \n",
       "4892        other  Not fleeing        False                Unarmed  \n",
       "4893        other        Other        False                   Guns  \n",
       "4894       attack          Car        False                   Guns  \n",
       "\n",
       "[4895 rows x 14 columns]"
      ]
     },
     "execution_count": 15,
     "metadata": {},
     "output_type": "execute_result"
    }
   ],
   "source": [
    "dataset"
   ]
  },
  {
   "cell_type": "markdown",
   "metadata": {},
   "source": [
    "# Data Pre-processing"
   ]
  },
  {
   "cell_type": "markdown",
   "metadata": {},
   "source": [
    "Checking For Null Values"
   ]
  },
  {
   "cell_type": "code",
   "execution_count": 16,
   "metadata": {},
   "outputs": [
    {
     "data": {
      "text/plain": [
       "False"
      ]
     },
     "execution_count": 16,
     "metadata": {},
     "output_type": "execute_result"
    }
   ],
   "source": [
    "dataset.isnull().values.any()"
   ]
  },
  {
   "cell_type": "code",
   "execution_count": 17,
   "metadata": {},
   "outputs": [],
   "source": [
    "x=dataset.iloc[:,[2,6]]"
   ]
  },
  {
   "cell_type": "code",
   "execution_count": 18,
   "metadata": {},
   "outputs": [
    {
     "data": {
      "text/html": [
       "<div>\n",
       "<style scoped>\n",
       "    .dataframe tbody tr th:only-of-type {\n",
       "        vertical-align: middle;\n",
       "    }\n",
       "\n",
       "    .dataframe tbody tr th {\n",
       "        vertical-align: top;\n",
       "    }\n",
       "\n",
       "    .dataframe thead th {\n",
       "        text-align: right;\n",
       "    }\n",
       "</style>\n",
       "<table border=\"1\" class=\"dataframe\">\n",
       "  <thead>\n",
       "    <tr style=\"text-align: right;\">\n",
       "      <th></th>\n",
       "      <th>manner_of_death</th>\n",
       "      <th>race</th>\n",
       "    </tr>\n",
       "  </thead>\n",
       "  <tbody>\n",
       "    <tr>\n",
       "      <th>0</th>\n",
       "      <td>shot</td>\n",
       "      <td>Asian</td>\n",
       "    </tr>\n",
       "    <tr>\n",
       "      <th>1</th>\n",
       "      <td>shot</td>\n",
       "      <td>White</td>\n",
       "    </tr>\n",
       "    <tr>\n",
       "      <th>2</th>\n",
       "      <td>shot and Tasered</td>\n",
       "      <td>Hispanic</td>\n",
       "    </tr>\n",
       "    <tr>\n",
       "      <th>3</th>\n",
       "      <td>shot</td>\n",
       "      <td>White</td>\n",
       "    </tr>\n",
       "    <tr>\n",
       "      <th>4</th>\n",
       "      <td>shot</td>\n",
       "      <td>Hispanic</td>\n",
       "    </tr>\n",
       "    <tr>\n",
       "      <th>...</th>\n",
       "      <td>...</td>\n",
       "      <td>...</td>\n",
       "    </tr>\n",
       "    <tr>\n",
       "      <th>4890</th>\n",
       "      <td>shot</td>\n",
       "      <td>Black</td>\n",
       "    </tr>\n",
       "    <tr>\n",
       "      <th>4891</th>\n",
       "      <td>shot</td>\n",
       "      <td>Black</td>\n",
       "    </tr>\n",
       "    <tr>\n",
       "      <th>4892</th>\n",
       "      <td>shot</td>\n",
       "      <td>White</td>\n",
       "    </tr>\n",
       "    <tr>\n",
       "      <th>4893</th>\n",
       "      <td>shot</td>\n",
       "      <td>White</td>\n",
       "    </tr>\n",
       "    <tr>\n",
       "      <th>4894</th>\n",
       "      <td>shot</td>\n",
       "      <td>White</td>\n",
       "    </tr>\n",
       "  </tbody>\n",
       "</table>\n",
       "<p>4895 rows × 2 columns</p>\n",
       "</div>"
      ],
      "text/plain": [
       "       manner_of_death      race\n",
       "0                 shot     Asian\n",
       "1                 shot     White\n",
       "2     shot and Tasered  Hispanic\n",
       "3                 shot     White\n",
       "4                 shot  Hispanic\n",
       "...                ...       ...\n",
       "4890              shot     Black\n",
       "4891              shot     Black\n",
       "4892              shot     White\n",
       "4893              shot     White\n",
       "4894              shot     White\n",
       "\n",
       "[4895 rows x 2 columns]"
      ]
     },
     "execution_count": 18,
     "metadata": {},
     "output_type": "execute_result"
    }
   ],
   "source": [
    "x"
   ]
  },
  {
   "cell_type": "markdown",
   "metadata": {},
   "source": [
    "Encoding columns \"manner_of_death\" and \"race\""
   ]
  },
  {
   "cell_type": "code",
   "execution_count": 19,
   "metadata": {},
   "outputs": [
    {
     "name": "stderr",
     "output_type": "stream",
     "text": [
      "C:\\Users\\abc\\Anaconda3\\lib\\site-packages\\pandas\\core\\indexing.py:1046: SettingWithCopyWarning: \n",
      "A value is trying to be set on a copy of a slice from a DataFrame.\n",
      "Try using .loc[row_indexer,col_indexer] = value instead\n",
      "\n",
      "See the caveats in the documentation: https://pandas.pydata.org/pandas-docs/stable/user_guide/indexing.html#returning-a-view-versus-a-copy\n",
      "  self.obj[item_labels[indexer[info_axis]]] = value\n"
     ]
    }
   ],
   "source": [
    "# Encoding categorical data ie converting categorical to numerical\n",
    "from sklearn.preprocessing import LabelEncoder, OneHotEncoder\n",
    "labelencoder_X = LabelEncoder()\n",
    "x.iloc[:, 0] = labelencoder_X.fit_transform(x.iloc[:, 0]) "
   ]
  },
  {
   "cell_type": "code",
   "execution_count": 20,
   "metadata": {},
   "outputs": [
    {
     "name": "stderr",
     "output_type": "stream",
     "text": [
      "C:\\Users\\abc\\Anaconda3\\lib\\site-packages\\pandas\\core\\indexing.py:964: SettingWithCopyWarning: \n",
      "A value is trying to be set on a copy of a slice from a DataFrame.\n",
      "Try using .loc[row_indexer,col_indexer] = value instead\n",
      "\n",
      "See the caveats in the documentation: https://pandas.pydata.org/pandas-docs/stable/user_guide/indexing.html#returning-a-view-versus-a-copy\n",
      "  self.obj[item] = s\n"
     ]
    }
   ],
   "source": [
    "# Encoding categorical data ie converting categorical to numerical\n",
    "from sklearn.preprocessing import LabelEncoder, OneHotEncoder\n",
    "labelencoder_X = LabelEncoder()\n",
    "x.iloc[:, 1] = labelencoder_X.fit_transform(x.iloc[:, 1]) "
   ]
  },
  {
   "cell_type": "markdown",
   "metadata": {},
   "source": [
    "Encoded Data:"
   ]
  },
  {
   "cell_type": "code",
   "execution_count": 21,
   "metadata": {},
   "outputs": [
    {
     "data": {
      "text/html": [
       "<div>\n",
       "<style scoped>\n",
       "    .dataframe tbody tr th:only-of-type {\n",
       "        vertical-align: middle;\n",
       "    }\n",
       "\n",
       "    .dataframe tbody tr th {\n",
       "        vertical-align: top;\n",
       "    }\n",
       "\n",
       "    .dataframe thead th {\n",
       "        text-align: right;\n",
       "    }\n",
       "</style>\n",
       "<table border=\"1\" class=\"dataframe\">\n",
       "  <thead>\n",
       "    <tr style=\"text-align: right;\">\n",
       "      <th></th>\n",
       "      <th>manner_of_death</th>\n",
       "      <th>race</th>\n",
       "    </tr>\n",
       "  </thead>\n",
       "  <tbody>\n",
       "    <tr>\n",
       "      <th>0</th>\n",
       "      <td>0</td>\n",
       "      <td>0</td>\n",
       "    </tr>\n",
       "    <tr>\n",
       "      <th>1</th>\n",
       "      <td>0</td>\n",
       "      <td>5</td>\n",
       "    </tr>\n",
       "    <tr>\n",
       "      <th>2</th>\n",
       "      <td>1</td>\n",
       "      <td>2</td>\n",
       "    </tr>\n",
       "    <tr>\n",
       "      <th>3</th>\n",
       "      <td>0</td>\n",
       "      <td>5</td>\n",
       "    </tr>\n",
       "    <tr>\n",
       "      <th>4</th>\n",
       "      <td>0</td>\n",
       "      <td>2</td>\n",
       "    </tr>\n",
       "    <tr>\n",
       "      <th>...</th>\n",
       "      <td>...</td>\n",
       "      <td>...</td>\n",
       "    </tr>\n",
       "    <tr>\n",
       "      <th>4890</th>\n",
       "      <td>0</td>\n",
       "      <td>1</td>\n",
       "    </tr>\n",
       "    <tr>\n",
       "      <th>4891</th>\n",
       "      <td>0</td>\n",
       "      <td>1</td>\n",
       "    </tr>\n",
       "    <tr>\n",
       "      <th>4892</th>\n",
       "      <td>0</td>\n",
       "      <td>5</td>\n",
       "    </tr>\n",
       "    <tr>\n",
       "      <th>4893</th>\n",
       "      <td>0</td>\n",
       "      <td>5</td>\n",
       "    </tr>\n",
       "    <tr>\n",
       "      <th>4894</th>\n",
       "      <td>0</td>\n",
       "      <td>5</td>\n",
       "    </tr>\n",
       "  </tbody>\n",
       "</table>\n",
       "<p>4895 rows × 2 columns</p>\n",
       "</div>"
      ],
      "text/plain": [
       "      manner_of_death  race\n",
       "0                   0     0\n",
       "1                   0     5\n",
       "2                   1     2\n",
       "3                   0     5\n",
       "4                   0     2\n",
       "...               ...   ...\n",
       "4890                0     1\n",
       "4891                0     1\n",
       "4892                0     5\n",
       "4893                0     5\n",
       "4894                0     5\n",
       "\n",
       "[4895 rows x 2 columns]"
      ]
     },
     "execution_count": 21,
     "metadata": {},
     "output_type": "execute_result"
    }
   ],
   "source": [
    "x"
   ]
  },
  {
   "cell_type": "markdown",
   "metadata": {},
   "source": [
    "Scaling of Data:"
   ]
  },
  {
   "cell_type": "code",
   "execution_count": 22,
   "metadata": {},
   "outputs": [],
   "source": [
    "from sklearn.preprocessing import StandardScaler\n",
    "sc=StandardScaler()\n",
    "data_scaled=sc.fit_transform(x)"
   ]
  },
  {
   "cell_type": "code",
   "execution_count": 23,
   "metadata": {},
   "outputs": [
    {
     "data": {
      "text/plain": [
       "array([[-0.23101464, -1.76595867],\n",
       "       [-0.23101464,  0.95102891],\n",
       "       [ 4.32872998, -0.67916364],\n",
       "       ...,\n",
       "       [-0.23101464,  0.95102891],\n",
       "       [-0.23101464,  0.95102891],\n",
       "       [-0.23101464,  0.95102891]])"
      ]
     },
     "execution_count": 23,
     "metadata": {},
     "output_type": "execute_result"
    }
   ],
   "source": [
    "data_scaled"
   ]
  },
  {
   "cell_type": "markdown",
   "metadata": {},
   "source": [
    "# K-Means Clustering"
   ]
  },
  {
   "cell_type": "markdown",
   "metadata": {},
   "source": [
    "Elbow method:"
   ]
  },
  {
   "cell_type": "code",
   "execution_count": 24,
   "metadata": {},
   "outputs": [],
   "source": [
    "#Running K means in range of k \n",
    "from sklearn.cluster import KMeans\n",
    "Percentage_of_variance = []\n",
    "var = range(1,10)\n",
    "for variable in var:\n",
    "    kmod = KMeans(n_clusters=variable)\n",
    "    kmod.fit(data_scaled)\n",
    "    Percentage_of_variance.append(kmod.inertia_)"
   ]
  },
  {
   "cell_type": "code",
   "execution_count": 25,
   "metadata": {},
   "outputs": [
    {
     "data": {
      "image/png": "[encoded data removed]",
      "text/plain": [
       "<Figure size 432x288 with 1 Axes>"
      ]
     },
     "metadata": {
      "needs_background": "light"
     },
     "output_type": "display_data"
    }
   ],
   "source": [
    "# Elbow of K-Means\n",
    "plt.plot(var, Percentage_of_variance, 'bx-')\n",
    "plt.xlabel('No. of Clusters(k)')\n",
    "plt.title('Elbow Method for showing the optimum k value')\n",
    "plt.show()"
   ]
  },
  {
   "cell_type": "markdown",
   "metadata": {},
   "source": [
    "As we are getting elbow at K=3 therefore number of clusters are choosen to be 3"
   ]
  },
  {
   "cell_type": "code",
   "execution_count": 26,
   "metadata": {},
   "outputs": [],
   "source": [
    "kmeans = KMeans(n_clusters = 3, init = 'k-means++', max_iter = 300, n_init = 10)"
   ]
  },
  {
   "cell_type": "code",
   "execution_count": 27,
   "metadata": {},
   "outputs": [],
   "source": [
    "y_kmeans = kmeans.fit_predict(data_scaled)"
   ]
  },
  {
   "cell_type": "code",
   "execution_count": 28,
   "metadata": {},
   "outputs": [],
   "source": [
    "dataset['kmeans_cluster'] =y_kmeans"
   ]
  },
  {
   "cell_type": "code",
   "execution_count": 29,
   "metadata": {},
   "outputs": [
    {
     "data": {
      "text/html": [
       "<div>\n",
       "<style scoped>\n",
       "    .dataframe tbody tr th:only-of-type {\n",
       "        vertical-align: middle;\n",
       "    }\n",
       "\n",
       "    .dataframe tbody tr th {\n",
       "        vertical-align: top;\n",
       "    }\n",
       "\n",
       "    .dataframe thead th {\n",
       "        text-align: right;\n",
       "    }\n",
       "</style>\n",
       "<table border=\"1\" class=\"dataframe\">\n",
       "  <thead>\n",
       "    <tr style=\"text-align: right;\">\n",
       "      <th></th>\n",
       "      <th>name</th>\n",
       "      <th>date</th>\n",
       "      <th>manner_of_death</th>\n",
       "      <th>armed</th>\n",
       "      <th>age</th>\n",
       "      <th>gender</th>\n",
       "      <th>race</th>\n",
       "      <th>city</th>\n",
       "      <th>state</th>\n",
       "      <th>signs_of_mental_illness</th>\n",
       "      <th>threat_level</th>\n",
       "      <th>flee</th>\n",
       "      <th>body_camera</th>\n",
       "      <th>arms_category</th>\n",
       "      <th>kmeans_cluster</th>\n",
       "    </tr>\n",
       "  </thead>\n",
       "  <tbody>\n",
       "    <tr>\n",
       "      <th>0</th>\n",
       "      <td>Tim Elliot</td>\n",
       "      <td>02-01-2015</td>\n",
       "      <td>shot</td>\n",
       "      <td>gun</td>\n",
       "      <td>53.0</td>\n",
       "      <td>M</td>\n",
       "      <td>Asian</td>\n",
       "      <td>Shelton</td>\n",
       "      <td>WA</td>\n",
       "      <td>True</td>\n",
       "      <td>attack</td>\n",
       "      <td>Not fleeing</td>\n",
       "      <td>False</td>\n",
       "      <td>Guns</td>\n",
       "      <td>1</td>\n",
       "    </tr>\n",
       "    <tr>\n",
       "      <th>1</th>\n",
       "      <td>Lewis Lee Lembke</td>\n",
       "      <td>02-01-2015</td>\n",
       "      <td>shot</td>\n",
       "      <td>gun</td>\n",
       "      <td>47.0</td>\n",
       "      <td>M</td>\n",
       "      <td>White</td>\n",
       "      <td>Aloha</td>\n",
       "      <td>OR</td>\n",
       "      <td>False</td>\n",
       "      <td>attack</td>\n",
       "      <td>Not fleeing</td>\n",
       "      <td>False</td>\n",
       "      <td>Guns</td>\n",
       "      <td>0</td>\n",
       "    </tr>\n",
       "    <tr>\n",
       "      <th>2</th>\n",
       "      <td>John Paul Quintero</td>\n",
       "      <td>03-01-2015</td>\n",
       "      <td>shot and Tasered</td>\n",
       "      <td>unarmed</td>\n",
       "      <td>23.0</td>\n",
       "      <td>M</td>\n",
       "      <td>Hispanic</td>\n",
       "      <td>Wichita</td>\n",
       "      <td>KS</td>\n",
       "      <td>False</td>\n",
       "      <td>other</td>\n",
       "      <td>Not fleeing</td>\n",
       "      <td>False</td>\n",
       "      <td>Unarmed</td>\n",
       "      <td>2</td>\n",
       "    </tr>\n",
       "    <tr>\n",
       "      <th>3</th>\n",
       "      <td>Matthew Hoffman</td>\n",
       "      <td>04-01-2015</td>\n",
       "      <td>shot</td>\n",
       "      <td>toy weapon</td>\n",
       "      <td>32.0</td>\n",
       "      <td>M</td>\n",
       "      <td>White</td>\n",
       "      <td>San Francisco</td>\n",
       "      <td>CA</td>\n",
       "      <td>True</td>\n",
       "      <td>attack</td>\n",
       "      <td>Not fleeing</td>\n",
       "      <td>False</td>\n",
       "      <td>Other unusual objects</td>\n",
       "      <td>0</td>\n",
       "    </tr>\n",
       "    <tr>\n",
       "      <th>4</th>\n",
       "      <td>Michael Rodriguez</td>\n",
       "      <td>04-01-2015</td>\n",
       "      <td>shot</td>\n",
       "      <td>nail gun</td>\n",
       "      <td>39.0</td>\n",
       "      <td>M</td>\n",
       "      <td>Hispanic</td>\n",
       "      <td>Evans</td>\n",
       "      <td>CO</td>\n",
       "      <td>False</td>\n",
       "      <td>attack</td>\n",
       "      <td>Not fleeing</td>\n",
       "      <td>False</td>\n",
       "      <td>Piercing objects</td>\n",
       "      <td>1</td>\n",
       "    </tr>\n",
       "    <tr>\n",
       "      <th>...</th>\n",
       "      <td>...</td>\n",
       "      <td>...</td>\n",
       "      <td>...</td>\n",
       "      <td>...</td>\n",
       "      <td>...</td>\n",
       "      <td>...</td>\n",
       "      <td>...</td>\n",
       "      <td>...</td>\n",
       "      <td>...</td>\n",
       "      <td>...</td>\n",
       "      <td>...</td>\n",
       "      <td>...</td>\n",
       "      <td>...</td>\n",
       "      <td>...</td>\n",
       "      <td>...</td>\n",
       "    </tr>\n",
       "    <tr>\n",
       "      <th>4890</th>\n",
       "      <td>Rayshard Brooks</td>\n",
       "      <td>12-06-2020</td>\n",
       "      <td>shot</td>\n",
       "      <td>Taser</td>\n",
       "      <td>27.0</td>\n",
       "      <td>M</td>\n",
       "      <td>Black</td>\n",
       "      <td>Atlanta</td>\n",
       "      <td>GA</td>\n",
       "      <td>False</td>\n",
       "      <td>attack</td>\n",
       "      <td>Foot</td>\n",
       "      <td>True</td>\n",
       "      <td>Electrical devices</td>\n",
       "      <td>1</td>\n",
       "    </tr>\n",
       "    <tr>\n",
       "      <th>4891</th>\n",
       "      <td>Caine Van Pelt</td>\n",
       "      <td>12-06-2020</td>\n",
       "      <td>shot</td>\n",
       "      <td>gun</td>\n",
       "      <td>23.0</td>\n",
       "      <td>M</td>\n",
       "      <td>Black</td>\n",
       "      <td>Crown Point</td>\n",
       "      <td>IN</td>\n",
       "      <td>False</td>\n",
       "      <td>attack</td>\n",
       "      <td>Car</td>\n",
       "      <td>False</td>\n",
       "      <td>Guns</td>\n",
       "      <td>1</td>\n",
       "    </tr>\n",
       "    <tr>\n",
       "      <th>4892</th>\n",
       "      <td>Hannah Fizer</td>\n",
       "      <td>13-06-2020</td>\n",
       "      <td>shot</td>\n",
       "      <td>unarmed</td>\n",
       "      <td>25.0</td>\n",
       "      <td>F</td>\n",
       "      <td>White</td>\n",
       "      <td>Sedalia</td>\n",
       "      <td>MO</td>\n",
       "      <td>False</td>\n",
       "      <td>other</td>\n",
       "      <td>Not fleeing</td>\n",
       "      <td>False</td>\n",
       "      <td>Unarmed</td>\n",
       "      <td>0</td>\n",
       "    </tr>\n",
       "    <tr>\n",
       "      <th>4893</th>\n",
       "      <td>William Slyter</td>\n",
       "      <td>13-06-2020</td>\n",
       "      <td>shot</td>\n",
       "      <td>gun</td>\n",
       "      <td>22.0</td>\n",
       "      <td>M</td>\n",
       "      <td>White</td>\n",
       "      <td>Kansas City</td>\n",
       "      <td>MO</td>\n",
       "      <td>False</td>\n",
       "      <td>other</td>\n",
       "      <td>Other</td>\n",
       "      <td>False</td>\n",
       "      <td>Guns</td>\n",
       "      <td>0</td>\n",
       "    </tr>\n",
       "    <tr>\n",
       "      <th>4894</th>\n",
       "      <td>Nicholas Hirsh</td>\n",
       "      <td>15-06-2020</td>\n",
       "      <td>shot</td>\n",
       "      <td>gun</td>\n",
       "      <td>31.0</td>\n",
       "      <td>M</td>\n",
       "      <td>White</td>\n",
       "      <td>Lawrence</td>\n",
       "      <td>KS</td>\n",
       "      <td>False</td>\n",
       "      <td>attack</td>\n",
       "      <td>Car</td>\n",
       "      <td>False</td>\n",
       "      <td>Guns</td>\n",
       "      <td>0</td>\n",
       "    </tr>\n",
       "  </tbody>\n",
       "</table>\n",
       "<p>4895 rows × 15 columns</p>\n",
       "</div>"
      ],
      "text/plain": [
       "                    name        date   manner_of_death       armed   age  \\\n",
       "0             Tim Elliot  02-01-2015              shot         gun  53.0   \n",
       "1       Lewis Lee Lembke  02-01-2015              shot         gun  47.0   \n",
       "2     John Paul Quintero  03-01-2015  shot and Tasered     unarmed  23.0   \n",
       "3        Matthew Hoffman  04-01-2015              shot  toy weapon  32.0   \n",
       "4      Michael Rodriguez  04-01-2015              shot    nail gun  39.0   \n",
       "...                  ...         ...               ...         ...   ...   \n",
       "4890     Rayshard Brooks  12-06-2020              shot       Taser  27.0   \n",
       "4891      Caine Van Pelt  12-06-2020              shot         gun  23.0   \n",
       "4892        Hannah Fizer  13-06-2020              shot     unarmed  25.0   \n",
       "4893      William Slyter  13-06-2020              shot         gun  22.0   \n",
       "4894      Nicholas Hirsh  15-06-2020              shot         gun  31.0   \n",
       "\n",
       "     gender      race           city state  signs_of_mental_illness  \\\n",
       "0         M     Asian        Shelton    WA                     True   \n",
       "1         M     White          Aloha    OR                    False   \n",
       "2         M  Hispanic        Wichita    KS                    False   \n",
       "3         M     White  San Francisco    CA                     True   \n",
       "4         M  Hispanic          Evans    CO                    False   \n",
       "...     ...       ...            ...   ...                      ...   \n",
       "4890      M     Black        Atlanta    GA                    False   \n",
       "4891      M     Black    Crown Point    IN                    False   \n",
       "4892      F     White        Sedalia    MO                    False   \n",
       "4893      M     White    Kansas City    MO                    False   \n",
       "4894      M     White       Lawrence    KS                    False   \n",
       "\n",
       "     threat_level         flee  body_camera          arms_category  \\\n",
       "0          attack  Not fleeing        False                   Guns   \n",
       "1          attack  Not fleeing        False                   Guns   \n",
       "2           other  Not fleeing        False                Unarmed   \n",
       "3          attack  Not fleeing        False  Other unusual objects   \n",
       "4          attack  Not fleeing        False       Piercing objects   \n",
       "...           ...          ...          ...                    ...   \n",
       "4890       attack         Foot         True     Electrical devices   \n",
       "4891       attack          Car        False                   Guns   \n",
       "4892        other  Not fleeing        False                Unarmed   \n",
       "4893        other        Other        False                   Guns   \n",
       "4894       attack          Car        False                   Guns   \n",
       "\n",
       "      kmeans_cluster  \n",
       "0                  1  \n",
       "1                  0  \n",
       "2                  2  \n",
       "3                  0  \n",
       "4                  1  \n",
       "...              ...  \n",
       "4890               1  \n",
       "4891               1  \n",
       "4892               0  \n",
       "4893               0  \n",
       "4894               0  \n",
       "\n",
       "[4895 rows x 15 columns]"
      ]
     },
     "execution_count": 29,
     "metadata": {},
     "output_type": "execute_result"
    }
   ],
   "source": [
    "dataset"
   ]
  },
  {
   "cell_type": "code",
   "execution_count": 30,
   "metadata": {},
   "outputs": [
    {
     "name": "stdout",
     "output_type": "stream",
     "text": [
      "[[-0.23101464  0.9413052 ]\n",
      " [-0.23101464 -0.99929355]\n",
      " [ 4.32872998 -0.07879703]]\n"
     ]
    }
   ],
   "source": [
    "print(kmeans.cluster_centers_)"
   ]
  },
  {
   "cell_type": "code",
   "execution_count": 31,
   "metadata": {},
   "outputs": [
    {
     "name": "stdout",
     "output_type": "stream",
     "text": [
      "[1 0 2 ... 0 0 0]\n"
     ]
    }
   ],
   "source": [
    "print(kmeans.labels_)"
   ]
  },
  {
   "cell_type": "code",
   "execution_count": 32,
   "metadata": {},
   "outputs": [
    {
     "data": {
      "text/plain": [
       "0    2403\n",
       "1    2244\n",
       "2     248\n",
       "dtype: int64"
      ]
     },
     "execution_count": 32,
     "metadata": {},
     "output_type": "execute_result"
    }
   ],
   "source": [
    "pd.Series(kmeans.labels_).value_counts()"
   ]
  },
  {
   "cell_type": "code",
   "execution_count": 33,
   "metadata": {},
   "outputs": [
    {
     "data": {
      "text/html": [
       "<div>\n",
       "<style scoped>\n",
       "    .dataframe tbody tr th:only-of-type {\n",
       "        vertical-align: middle;\n",
       "    }\n",
       "\n",
       "    .dataframe tbody tr th {\n",
       "        vertical-align: top;\n",
       "    }\n",
       "\n",
       "    .dataframe thead th {\n",
       "        text-align: right;\n",
       "    }\n",
       "</style>\n",
       "<table border=\"1\" class=\"dataframe\">\n",
       "  <thead>\n",
       "    <tr style=\"text-align: right;\">\n",
       "      <th></th>\n",
       "      <th>age</th>\n",
       "      <th>signs_of_mental_illness</th>\n",
       "      <th>body_camera</th>\n",
       "    </tr>\n",
       "    <tr>\n",
       "      <th>kmeans_cluster</th>\n",
       "      <th></th>\n",
       "      <th></th>\n",
       "      <th></th>\n",
       "    </tr>\n",
       "  </thead>\n",
       "  <tbody>\n",
       "    <tr>\n",
       "      <th>0</th>\n",
       "      <td>39.863092</td>\n",
       "      <td>0.283812</td>\n",
       "      <td>0.093217</td>\n",
       "    </tr>\n",
       "    <tr>\n",
       "      <th>1</th>\n",
       "      <td>33.026141</td>\n",
       "      <td>0.151961</td>\n",
       "      <td>0.141711</td>\n",
       "    </tr>\n",
       "    <tr>\n",
       "      <th>2</th>\n",
       "      <td>36.328039</td>\n",
       "      <td>0.322581</td>\n",
       "      <td>0.145161</td>\n",
       "    </tr>\n",
       "  </tbody>\n",
       "</table>\n",
       "</div>"
      ],
      "text/plain": [
       "                      age  signs_of_mental_illness  body_camera\n",
       "kmeans_cluster                                                 \n",
       "0               39.863092                 0.283812     0.093217\n",
       "1               33.026141                 0.151961     0.141711\n",
       "2               36.328039                 0.322581     0.145161"
      ]
     },
     "execution_count": 33,
     "metadata": {},
     "output_type": "execute_result"
    }
   ],
   "source": [
    "dataset.groupby('kmeans_cluster').mean()"
   ]
  },
  {
   "cell_type": "code",
   "execution_count": 34,
   "metadata": {},
   "outputs": [
    {
     "data": {
      "text/plain": [
       "<Figure size 3600x3600 with 0 Axes>"
      ]
     },
     "metadata": {},
     "output_type": "display_data"
    },
    {
     "data": {
      "image/png": "[encoded data removed]",
      "text/plain": [
       "<Figure size 432x288 with 1 Axes>"
      ]
     },
     "metadata": {},
     "output_type": "display_data"
    }
   ],
   "source": [
    "import matplotlib.pyplot as plt\n",
    "size=pd.Series(kmeans.labels_).value_counts()\n",
    "plt.figure(figsize=(50,50))\n",
    "# Pie chart, where the slices will be ordered and plotted counter-clockwise:\n",
    "labels = 'cluster 0','cluster 1','cluster 2'\n",
    "sizes = size\n",
    "explode = (0.1, 0.1, 0.1)  #  \"explode\" all three sides so that pie charts looks better\n",
    "fig1, ax1 = plt.subplots()\n",
    "ax1.pie(sizes, explode=explode, labels=labels,autopct='%1.1f%%')\n",
    "ax1.axis('equal')  # Equal aspect ratio ensures that pie is drawn as a circle.\n",
    "plt.show()"
   ]
  },
  {
   "cell_type": "markdown",
   "metadata": {},
   "source": [
    "1. cluster 0 consists of 49.1% of data \n",
    "2. cluster 1 consists of 45.8% of data \n",
    "3. cluster 2 consists of 5.1% of data  "
   ]
  },
  {
   "cell_type": "code",
   "execution_count": 35,
   "metadata": {},
   "outputs": [
    {
     "data": {
      "image/png": "[encoded data removed]",
      "text/plain": [
       "<Figure size 864x432 with 1 Axes>"
      ]
     },
     "metadata": {
      "needs_background": "light"
     },
     "output_type": "display_data"
    }
   ],
   "source": [
    "plt.figure(figsize=(12,6))\n",
    "plt.scatter(kmeans.cluster_centers_[:,0],kmeans.cluster_centers_[:,1],s=(200,200), c=[0,1,2]) \n",
    "plt.scatter(data_scaled[:,0],data_scaled[:,1],s=(50,50), c=kmeans.labels_) \n",
    "plt.title(\"manner of death vs Race\", fontsize=15)\n",
    "plt.xlabel(\"Manner of death\", fontsize=12)\n",
    "plt.ylabel(\"Race\", fontsize=12)\n",
    "plt.show()"
   ]
  },
  {
   "cell_type": "markdown",
   "metadata": {},
   "source": [
    "<b>Since all three clusters contains all races therefore both Apriori and k-means clustering algorithm verified that that was no racism\n",
    "shown by US police. Which means that the US police is not targeting any particular community.</b>"
   ]
  },
  {
   "cell_type": "code",
   "execution_count": null,
   "metadata": {},
   "outputs": [],
   "source": []
  }
 ],
 "metadata": {
  "anaconda-cloud": {},
  "kernelspec": {
   "display_name": "Python 3",
   "language": "python",
   "name": "python3"
  },
  "language_info": {
   "codemirror_mode": {
    "name": "ipython",
    "version": 3
   },
   "file_extension": ".py",
   "mimetype": "text/x-python",
   "name": "python",
   "nbconvert_exporter": "python",
   "pygments_lexer": "ipython3",
   "version": "3.7.3"
  }
 },
 "nbformat": 4,
 "nbformat_minor": 1
}
